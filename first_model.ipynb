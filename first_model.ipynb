{
 "cells": [
  {
   "cell_type": "markdown",
   "metadata": {},
   "source": [
    "First Model\n",
    "- In this notebook, we first label the data so that our model has a target to predict on (asleep or awake).\n",
    "-  "
   ]
  },
  {
   "cell_type": "markdown",
   "metadata": {},
   "source": [
    "# Imports, Load data"
   ]
  },
  {
   "cell_type": "code",
   "execution_count": 7,
   "metadata": {},
   "outputs": [],
   "source": [
    "import pandas as pd\n",
    "import polars as pl\n",
    "import numpy as np\n",
    "import matplotlib.pyplot as plt\n",
    "\n",
    "from sklearn.model_selection import cross_val_score, train_test_split\n",
    "from sklearn.preprocessing import MinMaxScaler\n",
    "from sklearn.linear_model import LogisticRegression\n",
    "from sklearn.ensemble import RandomForestClassifier\n",
    "from sklearn.neighbors import KNeighborsClassifier\n",
    "from sklearn.metrics import ConfusionMatrixDisplay, classification_report\n",
    "from sklearn.pipeline import Pipeline\n",
    "from xgboost import XGBClassifier\n",
    "\n",
    "# load in score function\n",
    "from metric import score\n",
    "\n",
    "# format display \n",
    "pd.set_option('display.max_rows', 50)\n",
    "pd.set_option('display.max_columns', None)\n",
    "pd.set_option('display.float_format', '{:.3f}'.format)\n",
    "\n",
    "# global random state\n",
    "random_state = 0"
   ]
  },
  {
   "cell_type": "code",
   "execution_count": 9,
   "metadata": {},
   "outputs": [],
   "source": [
    "# read in the data\n",
    "root = 'data/'\n",
    "train = pd.read_parquet(root + 'train_series.parquet')\n",
    "events = pd.read_csv(root + 'train_events.csv')"
   ]
  },
  {
   "cell_type": "markdown",
   "metadata": {},
   "source": [
    "# Label Data\n",
    "- Awake\n",
    "- Asleep\n",
    "- Unknown (Device not worn)"
   ]
  },
  {
   "cell_type": "code",
   "execution_count": 23,
   "metadata": {},
   "outputs": [],
   "source": [
    "# get a single user\n",
    "example_user = '038441c925bb'\n",
    "train_example = train.loc[train['series_id'] == example_user, :].copy()\n",
    "\n",
    "# convert to datetime\n",
    "train_example['timestamp'] = pd.to_datetime(train_example['timestamp'], utc=False)"
   ]
  },
  {
   "cell_type": "code",
   "execution_count": 24,
   "metadata": {},
   "outputs": [
    {
     "data": {
      "text/plain": [
       "(389880, 6)"
      ]
     },
     "execution_count": 24,
     "metadata": {},
     "output_type": "execute_result"
    }
   ],
   "source": [
    "# merge example with events table\n",
    "df = train_example.merge(events, how='left', on=['series_id', 'step']).drop(['timestamp_y', 'night'], axis=1)\n",
    "\n",
    "# rename timestamp_x column to timestamp\n",
    "df.rename(columns={'timestamp_x': 'timestamp'}, inplace=True)\n",
    "\n",
    "# check\n",
    "df.shape"
   ]
  },
  {
   "cell_type": "markdown",
   "metadata": {},
   "source": [
    "389k rows for our user."
   ]
  },
  {
   "cell_type": "code",
   "execution_count": 25,
   "metadata": {},
   "outputs": [],
   "source": [
    "# this cell drops the dates where no onset or wakeup occurred\n",
    "\n",
    "# # get valid dates (days with events recorded)\n",
    "# valid_dates = train_final[train_final['event'].notna()].date.unique()\n",
    "\n",
    "# # drop rows that aren't in valid_dates\n",
    "# train_final = train_final[train_final['date'].isin(valid_dates)]\n",
    "\n",
    "# # check\n",
    "# train_final.shape"
   ]
  },
  {
   "cell_type": "code",
   "execution_count": 26,
   "metadata": {},
   "outputs": [
    {
     "data": {
      "text/html": [
       "<div>\n",
       "<style scoped>\n",
       "    .dataframe tbody tr th:only-of-type {\n",
       "        vertical-align: middle;\n",
       "    }\n",
       "\n",
       "    .dataframe tbody tr th {\n",
       "        vertical-align: top;\n",
       "    }\n",
       "\n",
       "    .dataframe thead th {\n",
       "        text-align: right;\n",
       "    }\n",
       "</style>\n",
       "<table border=\"1\" class=\"dataframe\">\n",
       "  <thead>\n",
       "    <tr style=\"text-align: right;\">\n",
       "      <th></th>\n",
       "      <th>series_id</th>\n",
       "      <th>step</th>\n",
       "      <th>timestamp</th>\n",
       "      <th>anglez</th>\n",
       "      <th>enmo</th>\n",
       "      <th>event</th>\n",
       "    </tr>\n",
       "  </thead>\n",
       "  <tbody>\n",
       "    <tr>\n",
       "      <th>4992</th>\n",
       "      <td>038441c925bb</td>\n",
       "      <td>4992</td>\n",
       "      <td>2018-08-14 22:26:00-04:00</td>\n",
       "      <td>-78.691</td>\n",
       "      <td>0.010</td>\n",
       "      <td>onset</td>\n",
       "    </tr>\n",
       "    <tr>\n",
       "      <th>10932</th>\n",
       "      <td>038441c925bb</td>\n",
       "      <td>10932</td>\n",
       "      <td>2018-08-15 06:41:00-04:00</td>\n",
       "      <td>-61.578</td>\n",
       "      <td>0.026</td>\n",
       "      <td>wakeup</td>\n",
       "    </tr>\n",
       "    <tr>\n",
       "      <th>20244</th>\n",
       "      <td>038441c925bb</td>\n",
       "      <td>20244</td>\n",
       "      <td>2018-08-15 19:37:00-04:00</td>\n",
       "      <td>-6.387</td>\n",
       "      <td>0.018</td>\n",
       "      <td>onset</td>\n",
       "    </tr>\n",
       "    <tr>\n",
       "      <th>27492</th>\n",
       "      <td>038441c925bb</td>\n",
       "      <td>27492</td>\n",
       "      <td>2018-08-16 05:41:00-04:00</td>\n",
       "      <td>-45.355</td>\n",
       "      <td>0.016</td>\n",
       "      <td>wakeup</td>\n",
       "    </tr>\n",
       "    <tr>\n",
       "      <th>39996</th>\n",
       "      <td>038441c925bb</td>\n",
       "      <td>39996</td>\n",
       "      <td>2018-08-16 23:03:00-04:00</td>\n",
       "      <td>-1.787</td>\n",
       "      <td>0.000</td>\n",
       "      <td>onset</td>\n",
       "    </tr>\n",
       "  </tbody>\n",
       "</table>\n",
       "</div>"
      ],
      "text/plain": [
       "          series_id   step                 timestamp  anglez  enmo   event\n",
       "4992   038441c925bb   4992 2018-08-14 22:26:00-04:00 -78.691 0.010   onset\n",
       "10932  038441c925bb  10932 2018-08-15 06:41:00-04:00 -61.578 0.026  wakeup\n",
       "20244  038441c925bb  20244 2018-08-15 19:37:00-04:00  -6.387 0.018   onset\n",
       "27492  038441c925bb  27492 2018-08-16 05:41:00-04:00 -45.355 0.016  wakeup\n",
       "39996  038441c925bb  39996 2018-08-16 23:03:00-04:00  -1.787 0.000   onset"
      ]
     },
     "execution_count": 26,
     "metadata": {},
     "output_type": "execute_result"
    }
   ],
   "source": [
    "# look at the rows where events occurred\n",
    "df[df['event'].notna()].head()"
   ]
  },
  {
   "cell_type": "code",
   "execution_count": 27,
   "metadata": {},
   "outputs": [
    {
     "name": "stdout",
     "output_type": "stream",
     "text": [
      "<class 'pandas.core.frame.DataFrame'>\n",
      "RangeIndex: 389880 entries, 0 to 389879\n",
      "Data columns (total 6 columns):\n",
      " #   Column     Non-Null Count   Dtype                    \n",
      "---  ------     --------------   -----                    \n",
      " 0   series_id  389880 non-null  object                   \n",
      " 1   step       389880 non-null  uint32                   \n",
      " 2   timestamp  389880 non-null  datetime64[ns, UTC-04:00]\n",
      " 3   anglez     389880 non-null  float32                  \n",
      " 4   enmo       389880 non-null  float32                  \n",
      " 5   event      38 non-null      object                   \n",
      "dtypes: datetime64[ns, UTC-04:00](1), float32(2), object(2), uint32(1)\n",
      "memory usage: 13.4+ MB\n"
     ]
    }
   ],
   "source": [
    "df.info()"
   ]
  },
  {
   "cell_type": "markdown",
   "metadata": {},
   "source": [
    "The majority of 'event' rows are null, as no event occurred at those. To address this, we forward fill the event column:"
   ]
  },
  {
   "cell_type": "code",
   "execution_count": 28,
   "metadata": {},
   "outputs": [
    {
     "name": "stdout",
     "output_type": "stream",
     "text": [
      "<class 'pandas.core.frame.DataFrame'>\n",
      "RangeIndex: 389880 entries, 0 to 389879\n",
      "Data columns (total 6 columns):\n",
      " #   Column     Non-Null Count   Dtype                    \n",
      "---  ------     --------------   -----                    \n",
      " 0   series_id  389880 non-null  object                   \n",
      " 1   step       389880 non-null  uint32                   \n",
      " 2   timestamp  389880 non-null  datetime64[ns, UTC-04:00]\n",
      " 3   anglez     389880 non-null  float32                  \n",
      " 4   enmo       389880 non-null  float32                  \n",
      " 5   event      389880 non-null  object                   \n",
      "dtypes: datetime64[ns, UTC-04:00](1), float32(2), object(2), uint32(1)\n",
      "memory usage: 13.4+ MB\n"
     ]
    }
   ],
   "source": [
    "# forward fill the event column where sleep time is classified as 'onset' and awake time is classified as 'wakeup'\n",
    "df['event'].ffill(inplace=True)\n",
    "\n",
    "# fill the null rows at beginning with 'wakeup'\n",
    "df.fillna('wakeup', inplace=True)\n",
    "\n",
    "# check that all nulls are filled\n",
    "df.info()"
   ]
  },
  {
   "cell_type": "markdown",
   "metadata": {},
   "source": [
    "Now, we'll check a few of the step indices where events occurred to ensure the forward fill worked correctly:"
   ]
  },
  {
   "cell_type": "code",
   "execution_count": 29,
   "metadata": {},
   "outputs": [
    {
     "data": {
      "text/html": [
       "<div>\n",
       "<style scoped>\n",
       "    .dataframe tbody tr th:only-of-type {\n",
       "        vertical-align: middle;\n",
       "    }\n",
       "\n",
       "    .dataframe tbody tr th {\n",
       "        vertical-align: top;\n",
       "    }\n",
       "\n",
       "    .dataframe thead th {\n",
       "        text-align: right;\n",
       "    }\n",
       "</style>\n",
       "<table border=\"1\" class=\"dataframe\">\n",
       "  <thead>\n",
       "    <tr style=\"text-align: right;\">\n",
       "      <th></th>\n",
       "      <th>series_id</th>\n",
       "      <th>timestamp</th>\n",
       "      <th>anglez</th>\n",
       "      <th>enmo</th>\n",
       "      <th>event</th>\n",
       "    </tr>\n",
       "    <tr>\n",
       "      <th>step</th>\n",
       "      <th></th>\n",
       "      <th></th>\n",
       "      <th></th>\n",
       "      <th></th>\n",
       "      <th></th>\n",
       "    </tr>\n",
       "  </thead>\n",
       "  <tbody>\n",
       "    <tr>\n",
       "      <th>4990</th>\n",
       "      <td>038441c925bb</td>\n",
       "      <td>2018-08-14 22:25:50-04:00</td>\n",
       "      <td>-78.710</td>\n",
       "      <td>0.010</td>\n",
       "      <td>wakeup</td>\n",
       "    </tr>\n",
       "    <tr>\n",
       "      <th>4991</th>\n",
       "      <td>038441c925bb</td>\n",
       "      <td>2018-08-14 22:25:55-04:00</td>\n",
       "      <td>-78.730</td>\n",
       "      <td>0.010</td>\n",
       "      <td>wakeup</td>\n",
       "    </tr>\n",
       "    <tr>\n",
       "      <th>4992</th>\n",
       "      <td>038441c925bb</td>\n",
       "      <td>2018-08-14 22:26:00-04:00</td>\n",
       "      <td>-78.691</td>\n",
       "      <td>0.010</td>\n",
       "      <td>onset</td>\n",
       "    </tr>\n",
       "    <tr>\n",
       "      <th>4993</th>\n",
       "      <td>038441c925bb</td>\n",
       "      <td>2018-08-14 22:26:05-04:00</td>\n",
       "      <td>-78.665</td>\n",
       "      <td>0.010</td>\n",
       "      <td>onset</td>\n",
       "    </tr>\n",
       "    <tr>\n",
       "      <th>4994</th>\n",
       "      <td>038441c925bb</td>\n",
       "      <td>2018-08-14 22:26:10-04:00</td>\n",
       "      <td>-78.466</td>\n",
       "      <td>0.010</td>\n",
       "      <td>onset</td>\n",
       "    </tr>\n",
       "  </tbody>\n",
       "</table>\n",
       "</div>"
      ],
      "text/plain": [
       "         series_id                 timestamp  anglez  enmo   event\n",
       "step                                                              \n",
       "4990  038441c925bb 2018-08-14 22:25:50-04:00 -78.710 0.010  wakeup\n",
       "4991  038441c925bb 2018-08-14 22:25:55-04:00 -78.730 0.010  wakeup\n",
       "4992  038441c925bb 2018-08-14 22:26:00-04:00 -78.691 0.010   onset\n",
       "4993  038441c925bb 2018-08-14 22:26:05-04:00 -78.665 0.010   onset\n",
       "4994  038441c925bb 2018-08-14 22:26:10-04:00 -78.466 0.010   onset"
      ]
     },
     "execution_count": 29,
     "metadata": {},
     "output_type": "execute_result"
    }
   ],
   "source": [
    "# check 1\n",
    "df.set_index('step').loc[4990:4994]"
   ]
  },
  {
   "cell_type": "code",
   "execution_count": 30,
   "metadata": {},
   "outputs": [
    {
     "data": {
      "text/html": [
       "<div>\n",
       "<style scoped>\n",
       "    .dataframe tbody tr th:only-of-type {\n",
       "        vertical-align: middle;\n",
       "    }\n",
       "\n",
       "    .dataframe tbody tr th {\n",
       "        vertical-align: top;\n",
       "    }\n",
       "\n",
       "    .dataframe thead th {\n",
       "        text-align: right;\n",
       "    }\n",
       "</style>\n",
       "<table border=\"1\" class=\"dataframe\">\n",
       "  <thead>\n",
       "    <tr style=\"text-align: right;\">\n",
       "      <th></th>\n",
       "      <th>series_id</th>\n",
       "      <th>timestamp</th>\n",
       "      <th>anglez</th>\n",
       "      <th>enmo</th>\n",
       "      <th>event</th>\n",
       "    </tr>\n",
       "    <tr>\n",
       "      <th>step</th>\n",
       "      <th></th>\n",
       "      <th></th>\n",
       "      <th></th>\n",
       "      <th></th>\n",
       "      <th></th>\n",
       "    </tr>\n",
       "  </thead>\n",
       "  <tbody>\n",
       "    <tr>\n",
       "      <th>10930</th>\n",
       "      <td>038441c925bb</td>\n",
       "      <td>2018-08-15 06:40:50-04:00</td>\n",
       "      <td>-58.177</td>\n",
       "      <td>0.036</td>\n",
       "      <td>onset</td>\n",
       "    </tr>\n",
       "    <tr>\n",
       "      <th>10931</th>\n",
       "      <td>038441c925bb</td>\n",
       "      <td>2018-08-15 06:40:55-04:00</td>\n",
       "      <td>-61.438</td>\n",
       "      <td>0.027</td>\n",
       "      <td>onset</td>\n",
       "    </tr>\n",
       "    <tr>\n",
       "      <th>10932</th>\n",
       "      <td>038441c925bb</td>\n",
       "      <td>2018-08-15 06:41:00-04:00</td>\n",
       "      <td>-61.578</td>\n",
       "      <td>0.026</td>\n",
       "      <td>wakeup</td>\n",
       "    </tr>\n",
       "    <tr>\n",
       "      <th>10933</th>\n",
       "      <td>038441c925bb</td>\n",
       "      <td>2018-08-15 06:41:05-04:00</td>\n",
       "      <td>-61.744</td>\n",
       "      <td>0.026</td>\n",
       "      <td>wakeup</td>\n",
       "    </tr>\n",
       "    <tr>\n",
       "      <th>10934</th>\n",
       "      <td>038441c925bb</td>\n",
       "      <td>2018-08-15 06:41:10-04:00</td>\n",
       "      <td>-61.786</td>\n",
       "      <td>0.027</td>\n",
       "      <td>wakeup</td>\n",
       "    </tr>\n",
       "  </tbody>\n",
       "</table>\n",
       "</div>"
      ],
      "text/plain": [
       "          series_id                 timestamp  anglez  enmo   event\n",
       "step                                                               \n",
       "10930  038441c925bb 2018-08-15 06:40:50-04:00 -58.177 0.036   onset\n",
       "10931  038441c925bb 2018-08-15 06:40:55-04:00 -61.438 0.027   onset\n",
       "10932  038441c925bb 2018-08-15 06:41:00-04:00 -61.578 0.026  wakeup\n",
       "10933  038441c925bb 2018-08-15 06:41:05-04:00 -61.744 0.026  wakeup\n",
       "10934  038441c925bb 2018-08-15 06:41:10-04:00 -61.786 0.027  wakeup"
      ]
     },
     "execution_count": 30,
     "metadata": {},
     "output_type": "execute_result"
    }
   ],
   "source": [
    "# check 2\n",
    "df.set_index('step').loc[10930:10934]"
   ]
  },
  {
   "cell_type": "markdown",
   "metadata": {},
   "source": [
    "Now, we need to map these values to a sleep col to use as our final label:"
   ]
  },
  {
   "cell_type": "code",
   "execution_count": 31,
   "metadata": {},
   "outputs": [],
   "source": [
    "# create asleep (label) col\n",
    "df['asleep'] = df['event'].apply(lambda x: 1 if x == 'onset' else 0)"
   ]
  },
  {
   "cell_type": "markdown",
   "metadata": {},
   "source": [
    "The value count for awake times should be roughly double that of sleep time (16 hours awake, 8 hours asleep):"
   ]
  },
  {
   "cell_type": "code",
   "execution_count": 32,
   "metadata": {},
   "outputs": [
    {
     "data": {
      "text/plain": [
       "asleep\n",
       "0    269796\n",
       "1    120084\n",
       "Name: count, dtype: int64"
      ]
     },
     "execution_count": 32,
     "metadata": {},
     "output_type": "execute_result"
    }
   ],
   "source": [
    "df['asleep'].value_counts()"
   ]
  },
  {
   "cell_type": "markdown",
   "metadata": {},
   "source": [
    "- Slightly greater than the expected 2:1 ratio. This is because __inactive periods are labeled as 'awake'__.\n",
    "- This will definitely effect our model's performance, but as of now, no better labeling method is known of."
   ]
  },
  {
   "cell_type": "code",
   "execution_count": 33,
   "metadata": {},
   "outputs": [
    {
     "data": {
      "text/html": [
       "<div>\n",
       "<style scoped>\n",
       "    .dataframe tbody tr th:only-of-type {\n",
       "        vertical-align: middle;\n",
       "    }\n",
       "\n",
       "    .dataframe tbody tr th {\n",
       "        vertical-align: top;\n",
       "    }\n",
       "\n",
       "    .dataframe thead th {\n",
       "        text-align: right;\n",
       "    }\n",
       "</style>\n",
       "<table border=\"1\" class=\"dataframe\">\n",
       "  <thead>\n",
       "    <tr style=\"text-align: right;\">\n",
       "      <th></th>\n",
       "      <th>series_id</th>\n",
       "      <th>step</th>\n",
       "      <th>timestamp</th>\n",
       "      <th>anglez</th>\n",
       "      <th>enmo</th>\n",
       "      <th>asleep</th>\n",
       "    </tr>\n",
       "  </thead>\n",
       "  <tbody>\n",
       "    <tr>\n",
       "      <th>0</th>\n",
       "      <td>038441c925bb</td>\n",
       "      <td>0</td>\n",
       "      <td>2018-08-14 15:30:00-04:00</td>\n",
       "      <td>2.637</td>\n",
       "      <td>0.022</td>\n",
       "      <td>0</td>\n",
       "    </tr>\n",
       "    <tr>\n",
       "      <th>1</th>\n",
       "      <td>038441c925bb</td>\n",
       "      <td>1</td>\n",
       "      <td>2018-08-14 15:30:05-04:00</td>\n",
       "      <td>2.637</td>\n",
       "      <td>0.022</td>\n",
       "      <td>0</td>\n",
       "    </tr>\n",
       "    <tr>\n",
       "      <th>2</th>\n",
       "      <td>038441c925bb</td>\n",
       "      <td>2</td>\n",
       "      <td>2018-08-14 15:30:10-04:00</td>\n",
       "      <td>2.637</td>\n",
       "      <td>0.022</td>\n",
       "      <td>0</td>\n",
       "    </tr>\n",
       "    <tr>\n",
       "      <th>3</th>\n",
       "      <td>038441c925bb</td>\n",
       "      <td>3</td>\n",
       "      <td>2018-08-14 15:30:15-04:00</td>\n",
       "      <td>2.637</td>\n",
       "      <td>0.021</td>\n",
       "      <td>0</td>\n",
       "    </tr>\n",
       "    <tr>\n",
       "      <th>4</th>\n",
       "      <td>038441c925bb</td>\n",
       "      <td>4</td>\n",
       "      <td>2018-08-14 15:30:20-04:00</td>\n",
       "      <td>2.637</td>\n",
       "      <td>0.022</td>\n",
       "      <td>0</td>\n",
       "    </tr>\n",
       "  </tbody>\n",
       "</table>\n",
       "</div>"
      ],
      "text/plain": [
       "      series_id  step                 timestamp  anglez  enmo  asleep\n",
       "0  038441c925bb     0 2018-08-14 15:30:00-04:00   2.637 0.022       0\n",
       "1  038441c925bb     1 2018-08-14 15:30:05-04:00   2.637 0.022       0\n",
       "2  038441c925bb     2 2018-08-14 15:30:10-04:00   2.637 0.022       0\n",
       "3  038441c925bb     3 2018-08-14 15:30:15-04:00   2.637 0.021       0\n",
       "4  038441c925bb     4 2018-08-14 15:30:20-04:00   2.637 0.022       0"
      ]
     },
     "execution_count": 33,
     "metadata": {},
     "output_type": "execute_result"
    }
   ],
   "source": [
    "# drop event col\n",
    "df.drop('event', axis=1, inplace=True)\n",
    "\n",
    "# final training dataframe (for the first user)\n",
    "df.head()"
   ]
  },
  {
   "cell_type": "markdown",
   "metadata": {},
   "source": [
    "Currently, the only features are the raw anglez and enmo columns. \"asleep\" is our label."
   ]
  },
  {
   "cell_type": "code",
   "execution_count": 22,
   "metadata": {},
   "outputs": [],
   "source": [
    "# export\n",
    "df.to_csv('data/single_user_1.csv', index=False)"
   ]
  },
  {
   "cell_type": "markdown",
   "metadata": {},
   "source": [
    "# Feature creation"
   ]
  },
  {
   "cell_type": "code",
   "execution_count": 3,
   "metadata": {},
   "outputs": [],
   "source": [
    "# anglez\n",
    "df['anglez_diff'] = df['anglez'].diff()\n",
    "df['anglez_diff'] = df['anglez_diff'].fillna(0)\n",
    "\n",
    "df['anglez_rolling_mean'] = df['anglez'].rolling(window=61, min_periods=1).mean()\n",
    "df['anglez_rolling_std'] = df['anglez'].rolling(window=61, min_periods=1).std()\n",
    "df['anglez_rolling_std'] = df['anglez_diff'].fillna(0)\n",
    "\n",
    "\n",
    "\n",
    "# enmo\n",
    "df['enmo_diff'] = df['enmo'].diff()\n",
    "df['enmo_diff'] = df['enmo_diff'].fillna(0)\n",
    "\n",
    "df['enmo_rolling_mean'] = df['enmo'].rolling(window=61, min_periods=1).mean()\n",
    "df['enmo_rolling_std'] = df['enmo'].rolling(window=61, min_periods=1).std()\n",
    "df['enmo_rolling_std'] = df['anglez_diff'].fillna(0)"
   ]
  },
  {
   "cell_type": "code",
   "execution_count": 4,
   "metadata": {},
   "outputs": [
    {
     "data": {
      "text/html": [
       "<div>\n",
       "<style scoped>\n",
       "    .dataframe tbody tr th:only-of-type {\n",
       "        vertical-align: middle;\n",
       "    }\n",
       "\n",
       "    .dataframe tbody tr th {\n",
       "        vertical-align: top;\n",
       "    }\n",
       "\n",
       "    .dataframe thead th {\n",
       "        text-align: right;\n",
       "    }\n",
       "</style>\n",
       "<table border=\"1\" class=\"dataframe\">\n",
       "  <thead>\n",
       "    <tr style=\"text-align: right;\">\n",
       "      <th></th>\n",
       "      <th>series_id</th>\n",
       "      <th>step</th>\n",
       "      <th>anglez</th>\n",
       "      <th>enmo</th>\n",
       "      <th>date</th>\n",
       "      <th>asleep</th>\n",
       "      <th>anglez_diff</th>\n",
       "      <th>anglez_rolling_mean</th>\n",
       "      <th>anglez_rolling_std</th>\n",
       "      <th>enmo_diff</th>\n",
       "      <th>enmo_rolling_mean</th>\n",
       "      <th>enmo_rolling_std</th>\n",
       "    </tr>\n",
       "  </thead>\n",
       "  <tbody>\n",
       "    <tr>\n",
       "      <th>0</th>\n",
       "      <td>038441c925bb</td>\n",
       "      <td>3240</td>\n",
       "      <td>67.175</td>\n",
       "      <td>0.015</td>\n",
       "      <td>2018-08-15</td>\n",
       "      <td>0</td>\n",
       "      <td>0.000</td>\n",
       "      <td>67.175</td>\n",
       "      <td>0.000</td>\n",
       "      <td>0.000</td>\n",
       "      <td>0.015</td>\n",
       "      <td>0.000</td>\n",
       "    </tr>\n",
       "    <tr>\n",
       "      <th>1</th>\n",
       "      <td>038441c925bb</td>\n",
       "      <td>3241</td>\n",
       "      <td>68.881</td>\n",
       "      <td>0.021</td>\n",
       "      <td>2018-08-15</td>\n",
       "      <td>0</td>\n",
       "      <td>1.706</td>\n",
       "      <td>68.028</td>\n",
       "      <td>1.706</td>\n",
       "      <td>0.006</td>\n",
       "      <td>0.018</td>\n",
       "      <td>1.706</td>\n",
       "    </tr>\n",
       "    <tr>\n",
       "      <th>2</th>\n",
       "      <td>038441c925bb</td>\n",
       "      <td>3242</td>\n",
       "      <td>73.114</td>\n",
       "      <td>0.034</td>\n",
       "      <td>2018-08-15</td>\n",
       "      <td>0</td>\n",
       "      <td>4.233</td>\n",
       "      <td>69.723</td>\n",
       "      <td>4.233</td>\n",
       "      <td>0.013</td>\n",
       "      <td>0.024</td>\n",
       "      <td>4.233</td>\n",
       "    </tr>\n",
       "    <tr>\n",
       "      <th>3</th>\n",
       "      <td>038441c925bb</td>\n",
       "      <td>3243</td>\n",
       "      <td>73.692</td>\n",
       "      <td>0.030</td>\n",
       "      <td>2018-08-15</td>\n",
       "      <td>0</td>\n",
       "      <td>0.578</td>\n",
       "      <td>70.715</td>\n",
       "      <td>0.578</td>\n",
       "      <td>-0.004</td>\n",
       "      <td>0.025</td>\n",
       "      <td>0.578</td>\n",
       "    </tr>\n",
       "    <tr>\n",
       "      <th>4</th>\n",
       "      <td>038441c925bb</td>\n",
       "      <td>3244</td>\n",
       "      <td>72.685</td>\n",
       "      <td>0.020</td>\n",
       "      <td>2018-08-15</td>\n",
       "      <td>0</td>\n",
       "      <td>-1.007</td>\n",
       "      <td>71.109</td>\n",
       "      <td>-1.007</td>\n",
       "      <td>-0.011</td>\n",
       "      <td>0.024</td>\n",
       "      <td>-1.007</td>\n",
       "    </tr>\n",
       "  </tbody>\n",
       "</table>\n",
       "</div>"
      ],
      "text/plain": [
       "      series_id  step  anglez  enmo        date  asleep  anglez_diff  \\\n",
       "0  038441c925bb  3240  67.175 0.015  2018-08-15       0        0.000   \n",
       "1  038441c925bb  3241  68.881 0.021  2018-08-15       0        1.706   \n",
       "2  038441c925bb  3242  73.114 0.034  2018-08-15       0        4.233   \n",
       "3  038441c925bb  3243  73.692 0.030  2018-08-15       0        0.578   \n",
       "4  038441c925bb  3244  72.685 0.020  2018-08-15       0       -1.007   \n",
       "\n",
       "   anglez_rolling_mean  anglez_rolling_std  enmo_diff  enmo_rolling_mean  \\\n",
       "0               67.175               0.000      0.000              0.015   \n",
       "1               68.028               1.706      0.006              0.018   \n",
       "2               69.723               4.233      0.013              0.024   \n",
       "3               70.715               0.578     -0.004              0.025   \n",
       "4               71.109              -1.007     -0.011              0.024   \n",
       "\n",
       "   enmo_rolling_std  \n",
       "0             0.000  \n",
       "1             1.706  \n",
       "2             4.233  \n",
       "3             0.578  \n",
       "4            -1.007  "
      ]
     },
     "execution_count": 4,
     "metadata": {},
     "output_type": "execute_result"
    }
   ],
   "source": [
    "# check\n",
    "df.head()"
   ]
  },
  {
   "cell_type": "markdown",
   "metadata": {},
   "source": [
    "x features added in total"
   ]
  },
  {
   "cell_type": "markdown",
   "metadata": {},
   "source": [
    "# Model 1"
   ]
  },
  {
   "cell_type": "code",
   "execution_count": 5,
   "metadata": {},
   "outputs": [],
   "source": [
    "# create features and target\n",
    "X = df.drop(['series_id', 'asleep', 'step', 'date'], axis=1)\n",
    "y = df['asleep']"
   ]
  },
  {
   "cell_type": "code",
   "execution_count": 6,
   "metadata": {},
   "outputs": [],
   "source": [
    "# create pipeline\n",
    "pipe = Pipeline([('scaler', MinMaxScaler()), \n",
    "                 ('logreg', LogisticRegression(n_jobs=-1, random_state=random_state))])"
   ]
  },
  {
   "cell_type": "code",
   "execution_count": 7,
   "metadata": {},
   "outputs": [
    {
     "data": {
      "text/plain": [
       "(array([0.78894067, 0.83249574, 0.7408778 , 0.78022965, 0.78140229]),\n",
       " 0.7847892300194931)"
      ]
     },
     "execution_count": 7,
     "metadata": {},
     "output_type": "execute_result"
    }
   ],
   "source": [
    "# cross validate\n",
    "scores = cross_val_score(pipe, X, y, cv=5, scoring='accuracy')\n",
    "\n",
    "# print results\n",
    "scores, scores.mean()"
   ]
  },
  {
   "cell_type": "code",
   "execution_count": 8,
   "metadata": {},
   "outputs": [
    {
     "name": "stdout",
     "output_type": "stream",
     "text": [
      "              precision    recall  f1-score   support\n",
      "\n",
      "           0       0.85      0.82      0.83     41789\n",
      "           1       0.70      0.74      0.72     23875\n",
      "\n",
      "    accuracy                           0.79     65664\n",
      "   macro avg       0.77      0.78      0.78     65664\n",
      "weighted avg       0.79      0.79      0.79     65664\n",
      "\n"
     ]
    }
   ],
   "source": [
    "# split data\n",
    "X_train, X_test, y_train, y_test = train_test_split(X, y, test_size=0.2, random_state=random_state)\n",
    "\n",
    "# fit pipeline\n",
    "pipe.fit(X_train, y_train)\n",
    "\n",
    "# get preds\n",
    "preds = pipe.predict(X_test)\n",
    "\n",
    "\n",
    "print(classification_report(y_test, preds))"
   ]
  },
  {
   "cell_type": "code",
   "execution_count": 9,
   "metadata": {},
   "outputs": [
    {
     "data": {
      "image/png": "[encoded data removed]",
      "text/plain": [
       "<Figure size 640x480 with 2 Axes>"
      ]
     },
     "metadata": {},
     "output_type": "display_data"
    }
   ],
   "source": [
    "ConfusionMatrixDisplay.from_estimator(pipe, X_test, y_test, cmap='Blues');"
   ]
  },
  {
   "cell_type": "code",
   "execution_count": 10,
   "metadata": {},
   "outputs": [
    {
     "data": {
      "text/html": [
       "<div>\n",
       "<style scoped>\n",
       "    .dataframe tbody tr th:only-of-type {\n",
       "        vertical-align: middle;\n",
       "    }\n",
       "\n",
       "    .dataframe tbody tr th {\n",
       "        vertical-align: top;\n",
       "    }\n",
       "\n",
       "    .dataframe thead th {\n",
       "        text-align: right;\n",
       "    }\n",
       "</style>\n",
       "<table border=\"1\" class=\"dataframe\">\n",
       "  <thead>\n",
       "    <tr style=\"text-align: right;\">\n",
       "      <th></th>\n",
       "      <th>series_id</th>\n",
       "      <th>step</th>\n",
       "      <th>anglez</th>\n",
       "      <th>enmo</th>\n",
       "      <th>date</th>\n",
       "      <th>asleep</th>\n",
       "      <th>anglez_diff</th>\n",
       "      <th>anglez_rolling_mean</th>\n",
       "      <th>anglez_rolling_std</th>\n",
       "      <th>enmo_diff</th>\n",
       "      <th>enmo_rolling_mean</th>\n",
       "      <th>enmo_rolling_std</th>\n",
       "      <th>pred</th>\n",
       "    </tr>\n",
       "  </thead>\n",
       "  <tbody>\n",
       "    <tr>\n",
       "      <th>0</th>\n",
       "      <td>038441c925bb</td>\n",
       "      <td>3240</td>\n",
       "      <td>67.175</td>\n",
       "      <td>0.015</td>\n",
       "      <td>2018-08-15</td>\n",
       "      <td>0</td>\n",
       "      <td>0.000</td>\n",
       "      <td>67.175</td>\n",
       "      <td>0.000</td>\n",
       "      <td>0.000</td>\n",
       "      <td>0.015</td>\n",
       "      <td>0.000</td>\n",
       "      <td>0</td>\n",
       "    </tr>\n",
       "    <tr>\n",
       "      <th>1</th>\n",
       "      <td>038441c925bb</td>\n",
       "      <td>3241</td>\n",
       "      <td>68.881</td>\n",
       "      <td>0.021</td>\n",
       "      <td>2018-08-15</td>\n",
       "      <td>0</td>\n",
       "      <td>1.706</td>\n",
       "      <td>68.028</td>\n",
       "      <td>1.706</td>\n",
       "      <td>0.006</td>\n",
       "      <td>0.018</td>\n",
       "      <td>1.706</td>\n",
       "      <td>0</td>\n",
       "    </tr>\n",
       "    <tr>\n",
       "      <th>2</th>\n",
       "      <td>038441c925bb</td>\n",
       "      <td>3242</td>\n",
       "      <td>73.114</td>\n",
       "      <td>0.034</td>\n",
       "      <td>2018-08-15</td>\n",
       "      <td>0</td>\n",
       "      <td>4.233</td>\n",
       "      <td>69.723</td>\n",
       "      <td>4.233</td>\n",
       "      <td>0.013</td>\n",
       "      <td>0.024</td>\n",
       "      <td>4.233</td>\n",
       "      <td>0</td>\n",
       "    </tr>\n",
       "    <tr>\n",
       "      <th>3</th>\n",
       "      <td>038441c925bb</td>\n",
       "      <td>3243</td>\n",
       "      <td>73.692</td>\n",
       "      <td>0.030</td>\n",
       "      <td>2018-08-15</td>\n",
       "      <td>0</td>\n",
       "      <td>0.578</td>\n",
       "      <td>70.715</td>\n",
       "      <td>0.578</td>\n",
       "      <td>-0.004</td>\n",
       "      <td>0.025</td>\n",
       "      <td>0.578</td>\n",
       "      <td>0</td>\n",
       "    </tr>\n",
       "    <tr>\n",
       "      <th>4</th>\n",
       "      <td>038441c925bb</td>\n",
       "      <td>3244</td>\n",
       "      <td>72.685</td>\n",
       "      <td>0.020</td>\n",
       "      <td>2018-08-15</td>\n",
       "      <td>0</td>\n",
       "      <td>-1.007</td>\n",
       "      <td>71.109</td>\n",
       "      <td>-1.007</td>\n",
       "      <td>-0.011</td>\n",
       "      <td>0.024</td>\n",
       "      <td>-1.007</td>\n",
       "      <td>0</td>\n",
       "    </tr>\n",
       "  </tbody>\n",
       "</table>\n",
       "</div>"
      ],
      "text/plain": [
       "      series_id  step  anglez  enmo        date  asleep  anglez_diff  \\\n",
       "0  038441c925bb  3240  67.175 0.015  2018-08-15       0        0.000   \n",
       "1  038441c925bb  3241  68.881 0.021  2018-08-15       0        1.706   \n",
       "2  038441c925bb  3242  73.114 0.034  2018-08-15       0        4.233   \n",
       "3  038441c925bb  3243  73.692 0.030  2018-08-15       0        0.578   \n",
       "4  038441c925bb  3244  72.685 0.020  2018-08-15       0       -1.007   \n",
       "\n",
       "   anglez_rolling_mean  anglez_rolling_std  enmo_diff  enmo_rolling_mean  \\\n",
       "0               67.175               0.000      0.000              0.015   \n",
       "1               68.028               1.706      0.006              0.018   \n",
       "2               69.723               4.233      0.013              0.024   \n",
       "3               70.715               0.578     -0.004              0.025   \n",
       "4               71.109              -1.007     -0.011              0.024   \n",
       "\n",
       "   enmo_rolling_std  pred  \n",
       "0             0.000     0  \n",
       "1             1.706     0  \n",
       "2             4.233     0  \n",
       "3             0.578     0  \n",
       "4            -1.007     0  "
      ]
     },
     "execution_count": 10,
     "metadata": {},
     "output_type": "execute_result"
    }
   ],
   "source": [
    "# add preds col\n",
    "df_copy = df.copy()\n",
    "df_copy['pred'] = pipe.predict(X)\n",
    "\n",
    "# check\n",
    "df_copy.head()"
   ]
  },
  {
   "cell_type": "code",
   "execution_count": 11,
   "metadata": {},
   "outputs": [],
   "source": [
    "# rows where prediction switches from 0 to 1 or 1 to 0\n",
    "df_copy[\"pred_switch\"] = (df_copy[\"pred\"].diff() != 0).astype(int)"
   ]
  },
  {
   "cell_type": "code",
   "execution_count": 12,
   "metadata": {},
   "outputs": [
    {
     "data": {
      "text/plain": [
       "pred_switch\n",
       "0    326251\n",
       "1      2069\n",
       "Name: count, dtype: int64"
      ]
     },
     "execution_count": 12,
     "metadata": {},
     "output_type": "execute_result"
    }
   ],
   "source": [
    "# look at the value counts\n",
    "df_copy[\"pred_switch\"].value_counts()"
   ]
  },
  {
   "cell_type": "markdown",
   "metadata": {},
   "source": [
    "- For this user, we have 19 valid nights of data, meaning a perfect model would have 38 rows where sleep state switched.\n",
    "- Currently, our model has over 2000. This is because at any given 5-second timestep, our model is predicting whether the user is asleep or awake at that given moment. This would include times in the night where the user briefly woke up.\n",
    "- We want to identify the sleep window, and return the step where it began and where it ended on each day."
   ]
  },
  {
   "cell_type": "code",
   "execution_count": 130,
   "metadata": {},
   "outputs": [],
   "source": [
    "# group by the date to take the first occurence of predicted onset\n",
    "predicted_onset = df_copy.query(\"pred_switch == 1 & pred == 1\").groupby(\"date\")['step'].min()\n",
    "\n",
    "# idk\n",
    "predicted_wakeup = df_copy.query(\"pred_switch == 1 & pred == 0\").groupby(\"date\")['step'].min()"
   ]
  },
  {
   "cell_type": "code",
   "execution_count": null,
   "metadata": {},
   "outputs": [],
   "source": []
  },
  {
   "cell_type": "code",
   "execution_count": null,
   "metadata": {},
   "outputs": [],
   "source": []
  },
  {
   "cell_type": "code",
   "execution_count": null,
   "metadata": {},
   "outputs": [],
   "source": []
  },
  {
   "cell_type": "code",
   "execution_count": null,
   "metadata": {},
   "outputs": [],
   "source": []
  }
 ],
 "metadata": {
  "kernelspec": {
   "display_name": "sleep_env",
   "language": "python",
   "name": "python3"
  },
  "language_info": {
   "codemirror_mode": {
    "name": "ipython",
    "version": 3
   },
   "file_extension": ".py",
   "mimetype": "text/x-python",
   "name": "python",
   "nbconvert_exporter": "python",
   "pygments_lexer": "ipython3",
   "version": "3.12.1"
  }
 },
 "nbformat": 4,
 "nbformat_minor": 2
}
