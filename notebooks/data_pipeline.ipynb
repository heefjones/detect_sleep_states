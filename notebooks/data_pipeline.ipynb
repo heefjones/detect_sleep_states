{
 "cells": [
  {
   "cell_type": "markdown",
   "metadata": {},
   "source": [
    "# Data Pipeline\n",
    "In this notebook, we label the data at every timestep with one of 3 labels:\n",
    "- Awake\n",
    "- Asleep\n",
    "- Unknown (Device not worn)\n",
    "\n",
    "First, we must create a model to identify the periods of inactivity (accelerometer not being worn) so that we can label accordingly."
   ]
  },
  {
   "cell_type": "markdown",
   "metadata": {},
   "source": [
    "## Load in data"
   ]
  },
  {
   "cell_type": "code",
   "execution_count": 1,
   "metadata": {},
   "outputs": [],
   "source": [
    "# imports\n",
    "import pandas as pd\n",
    "import numpy as np\n",
    "import matplotlib.pyplot as plt\n",
    "\n",
    "# format display\n",
    "pd.set_option('display.max_rows', 100)\n",
    "pd.set_option('display.max_columns', 100)\n",
    "pd.set_option('display.float_format', '{:.3f}'.format)"
   ]
  },
  {
   "cell_type": "code",
   "execution_count": 5,
   "metadata": {},
   "outputs": [],
   "source": [
    "# read in the data\n",
    "root = '../data/'\n",
    "train = pd.read_parquet(root + 'train_series.parquet')\n",
    "test = pd.read_parquet(root + 'test_series.parquet')\n",
    "events = pd.read_csv(root + 'train_events.csv')\n",
    "submission = pd.read_csv(root + 'sample_submission.csv')"
   ]
  },
  {
   "cell_type": "code",
   "execution_count": 11,
   "metadata": {},
   "outputs": [],
   "source": [
    "# get a single user\n",
    "example_user = '038441c925bb'\n",
    "train_example = train.loc[train['series_id'] == example_user, :].copy()\n",
    "\n",
    "# convert to datetime\n",
    "train_example['timestamp'] = pd.to_datetime(train_example['timestamp'], utc=False)"
   ]
  },
  {
   "cell_type": "markdown",
   "metadata": {},
   "source": [
    "## Create Features"
   ]
  },
  {
   "cell_type": "markdown",
   "metadata": {},
   "source": [
    "# Label Data\n",
    "- Awake\n",
    "- Asleep\n",
    "- Unknown (Device not worn)"
   ]
  },
  {
   "cell_type": "code",
   "execution_count": 85,
   "metadata": {},
   "outputs": [
    {
     "data": {
      "text/plain": [
       "(389880, 6)"
      ]
     },
     "execution_count": 85,
     "metadata": {},
     "output_type": "execute_result"
    }
   ],
   "source": [
    "# merge example with events table\n",
    "train_final = train_example.merge(events, how='left', on=['series_id', 'step'])\n",
    "\n",
    "# check\n",
    "train_final.shape"
   ]
  },
  {
   "cell_type": "code",
   "execution_count": 87,
   "metadata": {},
   "outputs": [
    {
     "data": {
      "text/plain": [
       "(328320, 6)"
      ]
     },
     "execution_count": 87,
     "metadata": {},
     "output_type": "execute_result"
    }
   ],
   "source": [
    "# # get valid dates (days with events recorded)\n",
    "# valid_dates = train_final[train_final['event'].notna()].date.unique()\n",
    "\n",
    "# # drop rows that aren't in valid_dates\n",
    "# train_final = train_final[train_final['date'].isin(valid_dates)]\n",
    "\n",
    "# # check\n",
    "# train_final.shape"
   ]
  },
  {
   "cell_type": "code",
   "execution_count": 61,
   "metadata": {},
   "outputs": [
    {
     "data": {
      "text/html": [
       "<div>\n",
       "<style scoped>\n",
       "    .dataframe tbody tr th:only-of-type {\n",
       "        vertical-align: middle;\n",
       "    }\n",
       "\n",
       "    .dataframe tbody tr th {\n",
       "        vertical-align: top;\n",
       "    }\n",
       "\n",
       "    .dataframe thead th {\n",
       "        text-align: right;\n",
       "    }\n",
       "</style>\n",
       "<table border=\"1\" class=\"dataframe\">\n",
       "  <thead>\n",
       "    <tr style=\"text-align: right;\">\n",
       "      <th></th>\n",
       "      <th>series_id</th>\n",
       "      <th>step</th>\n",
       "      <th>anglez</th>\n",
       "      <th>enmo</th>\n",
       "      <th>date</th>\n",
       "      <th>event</th>\n",
       "    </tr>\n",
       "  </thead>\n",
       "  <tbody>\n",
       "    <tr>\n",
       "      <th>4992</th>\n",
       "      <td>038441c925bb</td>\n",
       "      <td>4992</td>\n",
       "      <td>-78.691</td>\n",
       "      <td>0.010</td>\n",
       "      <td>2018-08-15</td>\n",
       "      <td>onset</td>\n",
       "    </tr>\n",
       "    <tr>\n",
       "      <th>10932</th>\n",
       "      <td>038441c925bb</td>\n",
       "      <td>10932</td>\n",
       "      <td>-61.578</td>\n",
       "      <td>0.026</td>\n",
       "      <td>2018-08-15</td>\n",
       "      <td>wakeup</td>\n",
       "    </tr>\n",
       "    <tr>\n",
       "      <th>20244</th>\n",
       "      <td>038441c925bb</td>\n",
       "      <td>20244</td>\n",
       "      <td>-6.387</td>\n",
       "      <td>0.018</td>\n",
       "      <td>2018-08-15</td>\n",
       "      <td>onset</td>\n",
       "    </tr>\n",
       "    <tr>\n",
       "      <th>27492</th>\n",
       "      <td>038441c925bb</td>\n",
       "      <td>27492</td>\n",
       "      <td>-45.355</td>\n",
       "      <td>0.016</td>\n",
       "      <td>2018-08-16</td>\n",
       "      <td>wakeup</td>\n",
       "    </tr>\n",
       "    <tr>\n",
       "      <th>39996</th>\n",
       "      <td>038441c925bb</td>\n",
       "      <td>39996</td>\n",
       "      <td>-1.787</td>\n",
       "      <td>0.000</td>\n",
       "      <td>2018-08-17</td>\n",
       "      <td>onset</td>\n",
       "    </tr>\n",
       "  </tbody>\n",
       "</table>\n",
       "</div>"
      ],
      "text/plain": [
       "          series_id   step  anglez  enmo        date   event\n",
       "4992   038441c925bb   4992 -78.691 0.010  2018-08-15   onset\n",
       "10932  038441c925bb  10932 -61.578 0.026  2018-08-15  wakeup\n",
       "20244  038441c925bb  20244  -6.387 0.018  2018-08-15   onset\n",
       "27492  038441c925bb  27492 -45.355 0.016  2018-08-16  wakeup\n",
       "39996  038441c925bb  39996  -1.787 0.000  2018-08-17   onset"
      ]
     },
     "execution_count": 61,
     "metadata": {},
     "output_type": "execute_result"
    }
   ],
   "source": [
    "# look at the rows where events occurred\n",
    "train_final[train_final['event'].notna()].head()"
   ]
  },
  {
   "cell_type": "code",
   "execution_count": 62,
   "metadata": {},
   "outputs": [
    {
     "name": "stdout",
     "output_type": "stream",
     "text": [
      "<class 'pandas.core.frame.DataFrame'>\n",
      "Index: 328320 entries, 3240 to 383399\n",
      "Data columns (total 6 columns):\n",
      " #   Column     Non-Null Count   Dtype  \n",
      "---  ------     --------------   -----  \n",
      " 0   series_id  328320 non-null  object \n",
      " 1   step       328320 non-null  uint32 \n",
      " 2   anglez     328320 non-null  float32\n",
      " 3   enmo       328320 non-null  float32\n",
      " 4   date       328320 non-null  object \n",
      " 5   event      38 non-null      object \n",
      "dtypes: float32(2), object(3), uint32(1)\n",
      "memory usage: 13.8+ MB\n"
     ]
    }
   ],
   "source": [
    "train_final.info()"
   ]
  },
  {
   "cell_type": "markdown",
   "metadata": {},
   "source": [
    "The majority of 'event' rows are null, as no event occurred at those. To address this, we forward fill the event column:"
   ]
  },
  {
   "cell_type": "code",
   "execution_count": 63,
   "metadata": {},
   "outputs": [
    {
     "name": "stdout",
     "output_type": "stream",
     "text": [
      "<class 'pandas.core.frame.DataFrame'>\n",
      "Index: 328320 entries, 3240 to 383399\n",
      "Data columns (total 6 columns):\n",
      " #   Column     Non-Null Count   Dtype  \n",
      "---  ------     --------------   -----  \n",
      " 0   series_id  328320 non-null  object \n",
      " 1   step       328320 non-null  uint32 \n",
      " 2   anglez     328320 non-null  float32\n",
      " 3   enmo       328320 non-null  float32\n",
      " 4   date       328320 non-null  object \n",
      " 5   event      328320 non-null  object \n",
      "dtypes: float32(2), object(3), uint32(1)\n",
      "memory usage: 13.8+ MB\n"
     ]
    }
   ],
   "source": [
    "# forward fill the event column where sleep time is classified as 'onset' and awake time is classified as 'wakeup'\n",
    "train_final['event'].ffill(inplace=True)\n",
    "\n",
    "# fill the null rows at beginning with 'wakeup'\n",
    "train_final.fillna('wakeup', inplace=True)\n",
    "\n",
    "# check that all nulls are filled\n",
    "train_final.info()"
   ]
  },
  {
   "cell_type": "markdown",
   "metadata": {},
   "source": [
    "Now, we'll check a few of the step indices where events occurred to ensure the forward fill worked correctly:"
   ]
  },
  {
   "cell_type": "code",
   "execution_count": 66,
   "metadata": {},
   "outputs": [
    {
     "data": {
      "text/html": [
       "<div>\n",
       "<style scoped>\n",
       "    .dataframe tbody tr th:only-of-type {\n",
       "        vertical-align: middle;\n",
       "    }\n",
       "\n",
       "    .dataframe tbody tr th {\n",
       "        vertical-align: top;\n",
       "    }\n",
       "\n",
       "    .dataframe thead th {\n",
       "        text-align: right;\n",
       "    }\n",
       "</style>\n",
       "<table border=\"1\" class=\"dataframe\">\n",
       "  <thead>\n",
       "    <tr style=\"text-align: right;\">\n",
       "      <th></th>\n",
       "      <th>series_id</th>\n",
       "      <th>anglez</th>\n",
       "      <th>enmo</th>\n",
       "      <th>date</th>\n",
       "      <th>event</th>\n",
       "    </tr>\n",
       "    <tr>\n",
       "      <th>step</th>\n",
       "      <th></th>\n",
       "      <th></th>\n",
       "      <th></th>\n",
       "      <th></th>\n",
       "      <th></th>\n",
       "    </tr>\n",
       "  </thead>\n",
       "  <tbody>\n",
       "    <tr>\n",
       "      <th>4990</th>\n",
       "      <td>038441c925bb</td>\n",
       "      <td>-78.710</td>\n",
       "      <td>0.010</td>\n",
       "      <td>2018-08-15</td>\n",
       "      <td>wakeup</td>\n",
       "    </tr>\n",
       "    <tr>\n",
       "      <th>4991</th>\n",
       "      <td>038441c925bb</td>\n",
       "      <td>-78.730</td>\n",
       "      <td>0.010</td>\n",
       "      <td>2018-08-15</td>\n",
       "      <td>wakeup</td>\n",
       "    </tr>\n",
       "    <tr>\n",
       "      <th>4992</th>\n",
       "      <td>038441c925bb</td>\n",
       "      <td>-78.691</td>\n",
       "      <td>0.010</td>\n",
       "      <td>2018-08-15</td>\n",
       "      <td>onset</td>\n",
       "    </tr>\n",
       "    <tr>\n",
       "      <th>4993</th>\n",
       "      <td>038441c925bb</td>\n",
       "      <td>-78.665</td>\n",
       "      <td>0.010</td>\n",
       "      <td>2018-08-15</td>\n",
       "      <td>onset</td>\n",
       "    </tr>\n",
       "    <tr>\n",
       "      <th>4994</th>\n",
       "      <td>038441c925bb</td>\n",
       "      <td>-78.466</td>\n",
       "      <td>0.010</td>\n",
       "      <td>2018-08-15</td>\n",
       "      <td>onset</td>\n",
       "    </tr>\n",
       "  </tbody>\n",
       "</table>\n",
       "</div>"
      ],
      "text/plain": [
       "         series_id  anglez  enmo        date   event\n",
       "step                                                \n",
       "4990  038441c925bb -78.710 0.010  2018-08-15  wakeup\n",
       "4991  038441c925bb -78.730 0.010  2018-08-15  wakeup\n",
       "4992  038441c925bb -78.691 0.010  2018-08-15   onset\n",
       "4993  038441c925bb -78.665 0.010  2018-08-15   onset\n",
       "4994  038441c925bb -78.466 0.010  2018-08-15   onset"
      ]
     },
     "execution_count": 66,
     "metadata": {},
     "output_type": "execute_result"
    }
   ],
   "source": [
    "# check 1\n",
    "train_final.set_index('step').loc[4990:4994]"
   ]
  },
  {
   "cell_type": "code",
   "execution_count": 67,
   "metadata": {},
   "outputs": [
    {
     "data": {
      "text/html": [
       "<div>\n",
       "<style scoped>\n",
       "    .dataframe tbody tr th:only-of-type {\n",
       "        vertical-align: middle;\n",
       "    }\n",
       "\n",
       "    .dataframe tbody tr th {\n",
       "        vertical-align: top;\n",
       "    }\n",
       "\n",
       "    .dataframe thead th {\n",
       "        text-align: right;\n",
       "    }\n",
       "</style>\n",
       "<table border=\"1\" class=\"dataframe\">\n",
       "  <thead>\n",
       "    <tr style=\"text-align: right;\">\n",
       "      <th></th>\n",
       "      <th>series_id</th>\n",
       "      <th>anglez</th>\n",
       "      <th>enmo</th>\n",
       "      <th>date</th>\n",
       "      <th>event</th>\n",
       "    </tr>\n",
       "    <tr>\n",
       "      <th>step</th>\n",
       "      <th></th>\n",
       "      <th></th>\n",
       "      <th></th>\n",
       "      <th></th>\n",
       "      <th></th>\n",
       "    </tr>\n",
       "  </thead>\n",
       "  <tbody>\n",
       "    <tr>\n",
       "      <th>10930</th>\n",
       "      <td>038441c925bb</td>\n",
       "      <td>-58.177</td>\n",
       "      <td>0.036</td>\n",
       "      <td>2018-08-15</td>\n",
       "      <td>onset</td>\n",
       "    </tr>\n",
       "    <tr>\n",
       "      <th>10931</th>\n",
       "      <td>038441c925bb</td>\n",
       "      <td>-61.438</td>\n",
       "      <td>0.027</td>\n",
       "      <td>2018-08-15</td>\n",
       "      <td>onset</td>\n",
       "    </tr>\n",
       "    <tr>\n",
       "      <th>10932</th>\n",
       "      <td>038441c925bb</td>\n",
       "      <td>-61.578</td>\n",
       "      <td>0.026</td>\n",
       "      <td>2018-08-15</td>\n",
       "      <td>wakeup</td>\n",
       "    </tr>\n",
       "    <tr>\n",
       "      <th>10933</th>\n",
       "      <td>038441c925bb</td>\n",
       "      <td>-61.744</td>\n",
       "      <td>0.026</td>\n",
       "      <td>2018-08-15</td>\n",
       "      <td>wakeup</td>\n",
       "    </tr>\n",
       "    <tr>\n",
       "      <th>10934</th>\n",
       "      <td>038441c925bb</td>\n",
       "      <td>-61.786</td>\n",
       "      <td>0.027</td>\n",
       "      <td>2018-08-15</td>\n",
       "      <td>wakeup</td>\n",
       "    </tr>\n",
       "  </tbody>\n",
       "</table>\n",
       "</div>"
      ],
      "text/plain": [
       "          series_id  anglez  enmo        date   event\n",
       "step                                                 \n",
       "10930  038441c925bb -58.177 0.036  2018-08-15   onset\n",
       "10931  038441c925bb -61.438 0.027  2018-08-15   onset\n",
       "10932  038441c925bb -61.578 0.026  2018-08-15  wakeup\n",
       "10933  038441c925bb -61.744 0.026  2018-08-15  wakeup\n",
       "10934  038441c925bb -61.786 0.027  2018-08-15  wakeup"
      ]
     },
     "execution_count": 67,
     "metadata": {},
     "output_type": "execute_result"
    }
   ],
   "source": [
    "# check 2\n",
    "train_final.set_index('step').loc[10930:10934]"
   ]
  },
  {
   "cell_type": "markdown",
   "metadata": {},
   "source": [
    "Now, we need to map these values to a sleep col to use as our final label:"
   ]
  },
  {
   "cell_type": "code",
   "execution_count": 68,
   "metadata": {},
   "outputs": [],
   "source": [
    "# create sleep col\n",
    "train_final['asleep'] = train_final['event'].apply(lambda x: 1 if x == 'onset' else 0)"
   ]
  },
  {
   "cell_type": "markdown",
   "metadata": {},
   "source": [
    "The value count for awake times should be roughly double that of sleep time (16 hours awake, 8 hours asleep):"
   ]
  },
  {
   "cell_type": "code",
   "execution_count": 69,
   "metadata": {},
   "outputs": [
    {
     "data": {
      "text/plain": [
       "asleep\n",
       "0    208236\n",
       "1    120084\n",
       "Name: count, dtype: int64"
      ]
     },
     "execution_count": 69,
     "metadata": {},
     "output_type": "execute_result"
    }
   ],
   "source": [
    "train_final['asleep'].value_counts()"
   ]
  },
  {
   "cell_type": "code",
   "execution_count": 70,
   "metadata": {},
   "outputs": [
    {
     "data": {
      "text/html": [
       "<div>\n",
       "<style scoped>\n",
       "    .dataframe tbody tr th:only-of-type {\n",
       "        vertical-align: middle;\n",
       "    }\n",
       "\n",
       "    .dataframe tbody tr th {\n",
       "        vertical-align: top;\n",
       "    }\n",
       "\n",
       "    .dataframe thead th {\n",
       "        text-align: right;\n",
       "    }\n",
       "</style>\n",
       "<table border=\"1\" class=\"dataframe\">\n",
       "  <thead>\n",
       "    <tr style=\"text-align: right;\">\n",
       "      <th></th>\n",
       "      <th>series_id</th>\n",
       "      <th>step</th>\n",
       "      <th>anglez</th>\n",
       "      <th>enmo</th>\n",
       "      <th>date</th>\n",
       "      <th>asleep</th>\n",
       "    </tr>\n",
       "  </thead>\n",
       "  <tbody>\n",
       "    <tr>\n",
       "      <th>3240</th>\n",
       "      <td>038441c925bb</td>\n",
       "      <td>3240</td>\n",
       "      <td>67.175</td>\n",
       "      <td>0.015</td>\n",
       "      <td>2018-08-15</td>\n",
       "      <td>0</td>\n",
       "    </tr>\n",
       "    <tr>\n",
       "      <th>3241</th>\n",
       "      <td>038441c925bb</td>\n",
       "      <td>3241</td>\n",
       "      <td>68.881</td>\n",
       "      <td>0.021</td>\n",
       "      <td>2018-08-15</td>\n",
       "      <td>0</td>\n",
       "    </tr>\n",
       "    <tr>\n",
       "      <th>3242</th>\n",
       "      <td>038441c925bb</td>\n",
       "      <td>3242</td>\n",
       "      <td>73.114</td>\n",
       "      <td>0.034</td>\n",
       "      <td>2018-08-15</td>\n",
       "      <td>0</td>\n",
       "    </tr>\n",
       "    <tr>\n",
       "      <th>3243</th>\n",
       "      <td>038441c925bb</td>\n",
       "      <td>3243</td>\n",
       "      <td>73.692</td>\n",
       "      <td>0.030</td>\n",
       "      <td>2018-08-15</td>\n",
       "      <td>0</td>\n",
       "    </tr>\n",
       "    <tr>\n",
       "      <th>3244</th>\n",
       "      <td>038441c925bb</td>\n",
       "      <td>3244</td>\n",
       "      <td>72.685</td>\n",
       "      <td>0.020</td>\n",
       "      <td>2018-08-15</td>\n",
       "      <td>0</td>\n",
       "    </tr>\n",
       "  </tbody>\n",
       "</table>\n",
       "</div>"
      ],
      "text/plain": [
       "         series_id  step  anglez  enmo        date  asleep\n",
       "3240  038441c925bb  3240  67.175 0.015  2018-08-15       0\n",
       "3241  038441c925bb  3241  68.881 0.021  2018-08-15       0\n",
       "3242  038441c925bb  3242  73.114 0.034  2018-08-15       0\n",
       "3243  038441c925bb  3243  73.692 0.030  2018-08-15       0\n",
       "3244  038441c925bb  3244  72.685 0.020  2018-08-15       0"
      ]
     },
     "execution_count": 70,
     "metadata": {},
     "output_type": "execute_result"
    }
   ],
   "source": [
    "# drop event col\n",
    "train_final.drop('event', axis=1, inplace=True)\n",
    "\n",
    "# final training dataframe (for the first user)\n",
    "train_final.head()"
   ]
  },
  {
   "cell_type": "code",
   "execution_count": 71,
   "metadata": {},
   "outputs": [],
   "source": [
    "# export\n",
    "train_final.to_csv('data/single_user_1.csv', index=False)"
   ]
  }
 ],
 "metadata": {
  "kernelspec": {
   "display_name": "torch_env",
   "language": "python",
   "name": "python3"
  },
  "language_info": {
   "codemirror_mode": {
    "name": "ipython",
    "version": 3
   },
   "file_extension": ".py",
   "mimetype": "text/x-python",
   "name": "python",
   "nbconvert_exporter": "python",
   "pygments_lexer": "ipython3",
   "version": "3.12.1"
  }
 },
 "nbformat": 4,
 "nbformat_minor": 2
}
