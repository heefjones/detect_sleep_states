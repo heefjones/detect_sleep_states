{
 "cells": [
  {
   "cell_type": "markdown",
   "metadata": {},
   "source": [
    "# Imports, Load data"
   ]
  },
  {
   "cell_type": "code",
   "execution_count": 53,
   "metadata": {},
   "outputs": [],
   "source": [
    "import pandas as pd\n",
    "import polars as pl\n",
    "import numpy as np\n",
    "import matplotlib.pyplot as plt\n",
    "from tqdm import tqdm\n",
    "import gc\n",
    "\n",
    "from sklearn.model_selection import cross_val_score, train_test_split\n",
    "from sklearn.preprocessing import MinMaxScaler\n",
    "from sklearn.linear_model import LogisticRegression\n",
    "from sklearn.ensemble import RandomForestClassifier\n",
    "from sklearn.neighbors import KNeighborsClassifier\n",
    "from sklearn.metrics import ConfusionMatrixDisplay, classification_report\n",
    "from sklearn.pipeline import Pipeline\n",
    "from xgboost import XGBClassifier\n",
    "\n",
    "# load in score function\n",
    "from metric import score\n",
    "\n",
    "# format display \n",
    "pd.set_option('display.max_rows', 50)\n",
    "pd.set_option('display.max_columns', None)\n",
    "pd.set_option('display.float_format', '{:.3f}'.format)\n",
    "\n",
    "# global random state\n",
    "random_state = 0"
   ]
  },
  {
   "cell_type": "code",
   "execution_count": 224,
   "metadata": {},
   "outputs": [],
   "source": [
    "# datetime transforms\n",
    "dt_transforms = [\n",
    "    pl.col('timestamp').str.to_datetime(), \n",
    "    (pl.col('timestamp').str.to_datetime().dt.year() - 2000).cast(pl.UInt8).alias('year'), \n",
    "    pl.col('timestamp').str.to_datetime().dt.month().cast(pl.UInt8).alias('month'),\n",
    "    pl.col('timestamp').str.to_datetime().dt.day().cast(pl.UInt8).alias('day'), \n",
    "    pl.col('timestamp').str.to_datetime().dt.hour().cast(pl.UInt8).alias('hour')\n",
    "]\n",
    "\n",
    "# cast features to int16 and uint16\n",
    "data_transforms = [\n",
    "    pl.col('anglez').cast(pl.Int16),\n",
    "    (pl.col('enmo') * 1000).cast(pl.UInt16),\n",
    "]"
   ]
  },
  {
   "cell_type": "code",
   "execution_count": 225,
   "metadata": {},
   "outputs": [],
   "source": [
    "# read in the data\n",
    "root = 'data/'\n",
    "\n",
    "# load data\n",
    "train_series = pl.scan_csv(root + 'single_user_1.csv').with_columns(\n",
    "    dt_transforms + data_transforms\n",
    "    ).drop('asleep')\n",
    "train_events = pl.read_csv(root + 'train_events.csv').with_columns(\n",
    "    dt_transforms\n",
    "    )\n",
    "test_series = pl.scan_parquet(root + 'test_series.parquet').with_columns(\n",
    "    dt_transforms + data_transforms\n",
    "    )"
   ]
  },
  {
   "cell_type": "markdown",
   "metadata": {},
   "source": [
    "# Filter data, Create features"
   ]
  },
  {
   "cell_type": "code",
   "execution_count": 226,
   "metadata": {},
   "outputs": [
    {
     "name": "stdout",
     "output_type": "stream",
     "text": [
      "Number of total series: 277\n",
      "Number of series after removing mismatched counts: 269\n"
     ]
    },
    {
     "name": "stderr",
     "output_type": "stream",
     "text": [
      "C:\\Users\\heefj\\AppData\\Local\\Temp\\ipykernel_8476\\947715849.py:6: DeprecationWarning: `count` is deprecated. It has been renamed to `len`.\n",
      "  onset_counts = train_events.filter(pl.col('event')=='onset').group_by('series_id').count().sort('series_id')['count']\n",
      "C:\\Users\\heefj\\AppData\\Local\\Temp\\ipykernel_8476\\947715849.py:7: DeprecationWarning: `count` is deprecated. It has been renamed to `len`.\n",
      "  wakeup_counts = train_events.filter(pl.col('event')=='wakeup').group_by('series_id').count().sort('series_id')['count']\n"
     ]
    }
   ],
   "source": [
    "# getting series ids as a list\n",
    "series_ids = train_events['series_id'].unique(maintain_order=True).to_list()\n",
    "print(f'Number of total series: {len(series_ids)}')\n",
    "\n",
    "# removing users with mismatched onset/wakeup counts: \n",
    "onset_counts = train_events.filter(pl.col('event')=='onset').group_by('series_id').count().sort('series_id')['count']\n",
    "wakeup_counts = train_events.filter(pl.col('event')=='wakeup').group_by('series_id').count().sort('series_id')['count']\n",
    "counts = pl.DataFrame({'series_id':sorted(series_ids), 'onset_counts':onset_counts, 'wakeup_counts':wakeup_counts})\n",
    "count_mismatches = counts.filter(counts['onset_counts'] != counts['wakeup_counts'])\n",
    "train_series = train_series.filter(~pl.col('series_id').is_in(count_mismatches['series_id']))\n",
    "train_events = train_events.filter(~pl.col('series_id').is_in(count_mismatches['series_id']))\n",
    "\n",
    "# update list of series ids, not including series with no non-null values\n",
    "series_ids = train_events.drop_nulls()['series_id'].unique(maintain_order=True).to_list()\n",
    "print(f'Number of series after removing mismatched counts: {len(series_ids)}')"
   ]
  },
  {
   "cell_type": "code",
   "execution_count": 227,
   "metadata": {},
   "outputs": [],
   "source": [
    "# manula rolling_max function because to address \"not implemented\" error in polars\n",
    "def rolling_max(series):\n",
    "    return pd.Series(series).rolling(window_size, center=True, min_periods=1).max()"
   ]
  },
  {
   "cell_type": "code",
   "execution_count": 229,
   "metadata": {},
   "outputs": [
    {
     "name": "stderr",
     "output_type": "stream",
     "text": [
      "C:\\Users\\heefj\\AppData\\Local\\Temp\\ipykernel_8476\\2026851032.py:7: DeprecationWarning: `apply` is deprecated. It has been renamed to `map_elements`.\n",
      "  pl.col('enmo').apply(lambda x: rolling_max(x, 60)).alias(f'enmo_{5}m_max')\n"
     ]
    }
   ],
   "source": [
    "# cell without multiple minute counts\n",
    "\n",
    "features, feature_cols = [pl.col('hour'), pl.col('anglez'), pl.col('enmo')], ['hour', 'anglez', 'enmo']\n",
    "\n",
    "features += [\n",
    "    pl.col('enmo').rolling_mean(window_size=60, center=True, min_periods=1).alias(f'enmo_{5}m_mean'),\n",
    "    pl.col('enmo').apply(lambda x: rolling_max(x, 60)).alias(f'enmo_{5}m_max')\n",
    "]\n",
    "\n",
    "feature_cols += [ \n",
    "    f'enmo_{5}m_mean', f'enmo_{5}m_max'\n",
    "]"
   ]
  },
  {
   "cell_type": "code",
   "execution_count": 230,
   "metadata": {},
   "outputs": [],
   "source": [
    "# # features holds polars cols, feature_cols holds the names of the feature cols\n",
    "# features, feature_cols = [pl.col('hour')], ['hour']\n",
    "\n",
    "# # create rolling features for every [5, 30, 120, 480] minute interval\n",
    "# for mins in [5, 30, 120, 480] :\n",
    "#     features += [\n",
    "#         # multiply by 12 because of 5 second intervals\n",
    "#         pl.col('enmo').rolling_mean(12 * mins, center=True, min_periods=1).abs().cast(pl.UInt16).alias(f'enmo_{mins}m_mean'),\n",
    "#         pl.col('enmo').rolling_max(12 * mins, center=True, min_periods=1).abs().cast(pl.UInt16).alias(f'enmo_{mins}m_max')\n",
    "#     ]\n",
    "\n",
    "#     feature_cols += [ \n",
    "#         f'enmo_{mins}m_mean', f'enmo_{mins}m_max'\n",
    "#     ]\n",
    "\n",
    "#     # \n",
    "#     for var in ['enmo', 'anglez'] :\n",
    "#         features += [\n",
    "#             (pl.col(var).diff().abs().rolling_mean(12 * mins, center=True, min_periods=1) * 10).abs().cast(pl.UInt32).alias(f'{var}_1v_{mins}m_mean'),\n",
    "#             (pl.col(var).diff().abs().rolling_max(12 * mins, center=True, min_periods=1) * 10).abs().cast(pl.UInt32).alias(f'{var}_1v_{mins}m_max')\n",
    "#         ]\n",
    "\n",
    "#         feature_cols += [ \n",
    "#             f'{var}_1v_{mins}m_mean', f'{var}_1v_{mins}m_max'\n",
    "#         ]\n",
    "\n",
    "# # id cols\n",
    "# id_cols = ['series_id', 'step', 'timestamp']"
   ]
  },
  {
   "cell_type": "code",
   "execution_count": 231,
   "metadata": {},
   "outputs": [
    {
     "data": {
      "text/plain": [
       "[<Expr ['col(\"hour\")'] at 0x254671980E0>,\n",
       " <Expr ['col(\"anglez\")'] at 0x25467199C40>,\n",
       " <Expr ['col(\"enmo\")'] at 0x2546719B6B0>,\n",
       " <Expr ['col(\"enmo\").rolling_mean().ali…'] at 0x254670E1A30>,\n",
       " <Expr ['col(\"enmo\").map_list().alias(\"…'] at 0x2546719D160>]"
      ]
     },
     "execution_count": 231,
     "metadata": {},
     "output_type": "execute_result"
    }
   ],
   "source": [
    "features"
   ]
  },
  {
   "cell_type": "code",
   "execution_count": 232,
   "metadata": {},
   "outputs": [
    {
     "name": "stdout",
     "output_type": "stream",
     "text": [
      "Feature columns: ['hour', 'anglez', 'enmo', 'enmo_5m_mean', 'enmo_5m_max'], 5\n"
     ]
    }
   ],
   "source": [
    "# look at features\n",
    "print(f'Feature columns: {feature_cols}, {len(feature_cols)}')"
   ]
  },
  {
   "cell_type": "code",
   "execution_count": 233,
   "metadata": {},
   "outputs": [
    {
     "data": {
      "text/html": [
       "<div><style>\n",
       ".dataframe > thead > tr,\n",
       ".dataframe > tbody > tr {\n",
       "  text-align: right;\n",
       "  white-space: pre-wrap;\n",
       "}\n",
       "</style>\n",
       "<small>shape: (5, 9)</small><table border=\"1\" class=\"dataframe\"><thead><tr><th>series_id</th><th>step</th><th>timestamp</th><th>anglez</th><th>enmo</th><th>year</th><th>month</th><th>day</th><th>hour</th></tr><tr><td>str</td><td>i64</td><td>datetime[μs, UTC]</td><td>i16</td><td>u16</td><td>u8</td><td>u8</td><td>u8</td><td>u8</td></tr></thead><tbody><tr><td>&quot;038441c925bb&quot;</td><td>0</td><td>2018-08-14 19:30:00 UTC</td><td>2</td><td>21</td><td>18</td><td>8</td><td>14</td><td>19</td></tr><tr><td>&quot;038441c925bb&quot;</td><td>1</td><td>2018-08-14 19:30:05 UTC</td><td>2</td><td>21</td><td>18</td><td>8</td><td>14</td><td>19</td></tr><tr><td>&quot;038441c925bb&quot;</td><td>2</td><td>2018-08-14 19:30:10 UTC</td><td>2</td><td>21</td><td>18</td><td>8</td><td>14</td><td>19</td></tr><tr><td>&quot;038441c925bb&quot;</td><td>3</td><td>2018-08-14 19:30:15 UTC</td><td>2</td><td>21</td><td>18</td><td>8</td><td>14</td><td>19</td></tr><tr><td>&quot;038441c925bb&quot;</td><td>4</td><td>2018-08-14 19:30:20 UTC</td><td>2</td><td>21</td><td>18</td><td>8</td><td>14</td><td>19</td></tr></tbody></table></div>"
      ],
      "text/plain": [
       "shape: (5, 9)\n",
       "┌──────────────┬──────┬─────────────────────────┬────────┬───┬──────┬───────┬─────┬──────┐\n",
       "│ series_id    ┆ step ┆ timestamp               ┆ anglez ┆ … ┆ year ┆ month ┆ day ┆ hour │\n",
       "│ ---          ┆ ---  ┆ ---                     ┆ ---    ┆   ┆ ---  ┆ ---   ┆ --- ┆ ---  │\n",
       "│ str          ┆ i64  ┆ datetime[μs, UTC]       ┆ i16    ┆   ┆ u8   ┆ u8    ┆ u8  ┆ u8   │\n",
       "╞══════════════╪══════╪═════════════════════════╪════════╪═══╪══════╪═══════╪═════╪══════╡\n",
       "│ 038441c925bb ┆ 0    ┆ 2018-08-14 19:30:00 UTC ┆ 2      ┆ … ┆ 18   ┆ 8     ┆ 14  ┆ 19   │\n",
       "│ 038441c925bb ┆ 1    ┆ 2018-08-14 19:30:05 UTC ┆ 2      ┆ … ┆ 18   ┆ 8     ┆ 14  ┆ 19   │\n",
       "│ 038441c925bb ┆ 2    ┆ 2018-08-14 19:30:10 UTC ┆ 2      ┆ … ┆ 18   ┆ 8     ┆ 14  ┆ 19   │\n",
       "│ 038441c925bb ┆ 3    ┆ 2018-08-14 19:30:15 UTC ┆ 2      ┆ … ┆ 18   ┆ 8     ┆ 14  ┆ 19   │\n",
       "│ 038441c925bb ┆ 4    ┆ 2018-08-14 19:30:20 UTC ┆ 2      ┆ … ┆ 18   ┆ 8     ┆ 14  ┆ 19   │\n",
       "└──────────────┴──────┴─────────────────────────┴────────┴───┴──────┴───────┴─────┴──────┘"
      ]
     },
     "execution_count": 233,
     "metadata": {},
     "output_type": "execute_result"
    }
   ],
   "source": [
    "# check before\n",
    "train_series.collect().head()"
   ]
  },
  {
   "cell_type": "code",
   "execution_count": 234,
   "metadata": {},
   "outputs": [],
   "source": [
    "# add features to train and test series\n",
    "train_series = train_series.with_columns(\n",
    "    features\n",
    ").select(id_cols + feature_cols)\n",
    "\n",
    "test_series = test_series.with_columns(\n",
    "    features\n",
    ").select(id_cols + feature_cols)"
   ]
  },
  {
   "cell_type": "code",
   "execution_count": 235,
   "metadata": {},
   "outputs": [
    {
     "name": "stderr",
     "output_type": "stream",
     "text": [
      "c:\\Users\\heefj\\anaconda3\\envs\\sleep_env\\Lib\\site-packages\\polars\\series\\series.py:5291: FutureWarning: Calling float on a single element Series is deprecated and will raise a TypeError in the future. Use float(ser.iloc[0]) instead\n",
      "  self._s.apply_lambda(function, pl_return_dtype, skip_nulls)\n"
     ]
    },
    {
     "ename": "KeyboardInterrupt",
     "evalue": "",
     "output_type": "error",
     "traceback": [
      "\u001b[1;31m---------------------------------------------------------------------------\u001b[0m",
      "\u001b[1;31mKeyboardInterrupt\u001b[0m                         Traceback (most recent call last)",
      "Cell \u001b[1;32mIn[235], line 2\u001b[0m\n\u001b[0;32m      1\u001b[0m \u001b[38;5;66;03m# check after\u001b[39;00m\n\u001b[1;32m----> 2\u001b[0m \u001b[43mtrain_series\u001b[49m\u001b[38;5;241;43m.\u001b[39;49m\u001b[43mcollect\u001b[49m\u001b[43m(\u001b[49m\u001b[43m)\u001b[49m\u001b[38;5;241m.\u001b[39mhead()\n",
      "File \u001b[1;32mc:\\Users\\heefj\\anaconda3\\envs\\sleep_env\\Lib\\site-packages\\polars\\lazyframe\\frame.py:1730\u001b[0m, in \u001b[0;36mLazyFrame.collect\u001b[1;34m(self, type_coercion, predicate_pushdown, projection_pushdown, simplify_expression, slice_pushdown, comm_subplan_elim, comm_subexpr_elim, no_optimization, streaming, background, _eager)\u001b[0m\n\u001b[0;32m   1727\u001b[0m \u001b[38;5;28;01mif\u001b[39;00m background:\n\u001b[0;32m   1728\u001b[0m     \u001b[38;5;28;01mreturn\u001b[39;00m InProcessQuery(ldf\u001b[38;5;241m.\u001b[39mcollect_concurrently())\n\u001b[1;32m-> 1730\u001b[0m \u001b[38;5;28;01mreturn\u001b[39;00m wrap_df(\u001b[43mldf\u001b[49m\u001b[38;5;241;43m.\u001b[39;49m\u001b[43mcollect\u001b[49m\u001b[43m(\u001b[49m\u001b[43m)\u001b[49m)\n",
      "\u001b[1;31mKeyboardInterrupt\u001b[0m: "
     ]
    }
   ],
   "source": [
    "# check after\n",
    "train_series.collect().head()"
   ]
  },
  {
   "cell_type": "code",
   "execution_count": null,
   "metadata": {},
   "outputs": [],
   "source": []
  },
  {
   "cell_type": "code",
   "execution_count": null,
   "metadata": {},
   "outputs": [],
   "source": []
  },
  {
   "cell_type": "code",
   "execution_count": null,
   "metadata": {},
   "outputs": [],
   "source": []
  },
  {
   "cell_type": "code",
   "execution_count": null,
   "metadata": {},
   "outputs": [],
   "source": []
  },
  {
   "cell_type": "code",
   "execution_count": null,
   "metadata": {},
   "outputs": [],
   "source": []
  },
  {
   "cell_type": "code",
   "execution_count": null,
   "metadata": {},
   "outputs": [],
   "source": []
  },
  {
   "cell_type": "code",
   "execution_count": 46,
   "metadata": {},
   "outputs": [],
   "source": [
    "def make_train_dataset(train_data, train_events, drop_nulls=False) :\n",
    "    # get series ids\n",
    "    series_ids = train_data['series_id'].unique(maintain_order=True).to_list()\n",
    "\n",
    "    # create empty dataframes\n",
    "    X, y = pl.DataFrame(), pl.DataFrame()\n",
    "\n",
    "    # normalize all features by dividing by std\n",
    "    sample = train_data.with_columns(\n",
    "        [(pl.col(col) / pl.col(col).std()).cast(pl.Float32) for col in feature_cols if col != 'hour']\n",
    "    )\n",
    "    \n",
    "    # get events for the first user\n",
    "    events = train_events.filter(pl.col('series_id') == '038441c925bb')\n",
    "    \n",
    "    # remove datapoints on dates where no data was recorded\n",
    "    if drop_nulls : \n",
    "        sample = sample.filter(\n",
    "            pl.col('timestamp').dt.date().is_in(events['timestamp'].dt.date())\n",
    "        )\n",
    "    \n",
    "    # add sample to X dataframe\n",
    "    X = X.vstack(sample[id_cols + feature_cols])\n",
    "\n",
    "    # get onsets and wakeups\n",
    "    onsets = events.filter((pl.col('event') == 'onset') & (pl.col('step') != None))['step'].to_list()\n",
    "    wakeups = events.filter((pl.col('event') == 'wakeup') & (pl.col('step') != None))['step'].to_list()\n",
    "\n",
    "    # iterate through onsets, wakeups for the user to create 'asleep' col\n",
    "    y = y.vstack(sample.with_columns(\n",
    "        sum([(onset <= pl.col('step')) & (pl.col('step') <= wakeup) for onset, wakeup in zip(onsets, wakeups)]).cast(pl.Boolean).alias('asleep')\n",
    "        ).select('asleep')\n",
    "        )\n",
    "    \n",
    "    y = y.to_numpy().ravel()\n",
    "    \n",
    "    return X, y"
   ]
  },
  {
   "cell_type": "code",
   "execution_count": null,
   "metadata": {},
   "outputs": [],
   "source": []
  },
  {
   "cell_type": "code",
   "execution_count": null,
   "metadata": {},
   "outputs": [],
   "source": [
    "def get_events(series, classifier):\n",
    "    '''\n",
    "    Takes a time series and a classifier and returns a formatted submission dataframe.\n",
    "    '''\n",
    "    \n",
    "    series_ids = series['series_id'].unique(maintain_order=True).to_list()\n",
    "    events = pl.DataFrame(schema={'series_id':str, 'step':int, 'event':str, 'score':float})\n",
    "\n",
    "    for idx in tqdm(series_ids) : \n",
    "\n",
    "        # Collecting sample and normalizing features\n",
    "        scale_cols = [col for col in feature_cols if (col != 'hour') & (series[col].std() !=0)]\n",
    "        X = series.filter(pl.col('series_id') == idx).select(id_cols + feature_cols).with_columns(\n",
    "            [(pl.col(col) / series[col].std()).cast(pl.Float32) for col in scale_cols]\n",
    "        )\n",
    "\n",
    "        # Applying classifier to get predictions and scores\n",
    "        preds, probs = classifier.predict(X[feature_cols]), classifier.predict_proba(X[feature_cols])[:, 1]\n",
    "\n",
    "        #NOTE: Considered using rolling max to get sleep periods excluding <30 min interruptions, but ended up decreasing performance\n",
    "        X = X.with_columns(\n",
    "            pl.lit(preds).cast(pl.Int8).alias('prediction'), \n",
    "            pl.lit(probs).alias('probability')\n",
    "                        )\n",
    "        \n",
    "        # Getting predicted onset and wakeup time steps\n",
    "        pred_onsets = X.filter(X['prediction'].diff() > 0)['step'].to_list()\n",
    "        pred_wakeups = X.filter(X['prediction'].diff() < 0)['step'].to_list()\n",
    "        \n",
    "        if len(pred_onsets) > 0 : \n",
    "            \n",
    "            # Ensuring all predicted sleep periods begin and end\n",
    "            if min(pred_wakeups) < min(pred_onsets) : \n",
    "                pred_wakeups = pred_wakeups[1:]\n",
    "\n",
    "            if max(pred_onsets) > max(pred_wakeups) :\n",
    "                pred_onsets = pred_onsets[:-1]\n",
    "\n",
    "            # Keeping sleep periods longer than 30 minutes\n",
    "            sleep_periods = [(onset, wakeup) for onset, wakeup in zip(pred_onsets, pred_wakeups) if wakeup - onset >= 12 * 30]\n",
    "\n",
    "            for onset, wakeup in sleep_periods :\n",
    "                # Scoring using mean probability over period\n",
    "                score = X.filter((pl.col('step') >= onset) & (pl.col('step') <= wakeup))['probability'].mean()\n",
    "\n",
    "                # Adding sleep event to dataframe\n",
    "                events = events.vstack(pl.DataFrame().with_columns(\n",
    "                    pl.Series([idx, idx]).alias('series_id'), \n",
    "                    pl.Series([onset, wakeup]).alias('step'),\n",
    "                    pl.Series(['onset', 'wakeup']).alias('event'),\n",
    "                    pl.Series([score, score]).alias('score')\n",
    "                ))\n",
    "\n",
    "    # Adding row id column\n",
    "    events = events.to_pandas().reset_index().rename(columns={'index':'row_id'})\n",
    "\n",
    "    return events"
   ]
  },
  {
   "cell_type": "code",
   "execution_count": 52,
   "metadata": {},
   "outputs": [
    {
     "data": {
      "text/html": [
       "<i>naive plan: (run <b>LazyFrame.explain(optimized=True)</b> to see the optimized plan)</i>\n",
       "    <p></p>\n",
       "    <div> SELECT [col(\"series_id\"), col(\"step\"), col(\"timestamp\"), col(\"hour\"), col(\"enmo_5m_mean\"), col(\"enmo_5m_max\"), col(\"enmo_1v_5m_mean\"), col(\"enmo_1v_5m_max\"), col(\"anglez_1v_5m_mean\"), col(\"anglez_1v_5m_max\"), col(\"enmo_30m_mean\"), col(\"enmo_30m_max\"), col(\"enmo_1v_30m_mean\"), col(\"enmo_1v_30m_max\"), col(\"anglez_1v_30m_mean\"), col(\"anglez_1v_30m_max\"), col(\"enmo_120m_mean\"), col(\"enmo_120m_max\"), col(\"enmo_1v_120m_mean\"), col(\"enmo_1v_120m_max\"), col(\"anglez_1v_120m_mean\"), col(\"anglez_1v_120m_max\"), col(\"enmo_480m_mean\"), col(\"enmo_480m_max\"), col(\"enmo_1v_480m_mean\"), col(\"enmo_1v_480m_max\"), col(\"anglez_1v_480m_mean\"), col(\"anglez_1v_480m_max\")] FROM<p></p>   WITH_COLUMNS:<p></p>   [col(\"hour\"), col(\"enmo\").rolling_mean().abs().strict_cast(UInt16).alias(\"enmo_5m_mean\"), col(\"enmo\").rolling_max().abs().strict_cast(UInt16).alias(\"enmo_5m_max\"), [(col(\"enmo\").diff().abs().rolling_mean()) * (10)].abs().strict_cast(UInt32).alias(\"enmo_1v_5m_mean\"), [(col(\"enmo\").diff().abs().rolling_max()) * (10)].abs().strict_cast(UInt32).alias(\"enmo_1v_5m_max\"), [(col(\"anglez\").diff().abs().rolling_mean()) * (10)].abs().strict_cast(UInt32).alias(\"anglez_1v_5m_mean\"), [(col(\"anglez\").diff().abs().rolling_max()) * (10)].abs().strict_cast(UInt32).alias(\"anglez_1v_5m_max\"), col(\"enmo\").rolling_mean().abs().strict_cast(UInt16).alias(\"enmo_30m_mean\"), col(\"enmo\").rolling_max().abs().strict_cast(UInt16).alias(\"enmo_30m_max\"), [(col(\"enmo\").diff().abs().rolling_mean()) * (10)].abs().strict_cast(UInt32).alias(\"enmo_1v_30m_mean\"), [(col(\"enmo\").diff().abs().rolling_max()) * (10)].abs().strict_cast(UInt32).alias(\"enmo_1v_30m_max\"), [(col(\"anglez\").diff().abs().rolling_mean()) * (10)].abs().strict_cast(UInt32).alias(\"anglez_1v_30m_mean\"), [(col(\"anglez\").diff().abs().rolling_max()) * (10)].abs().strict_cast(UInt32).alias(\"anglez_1v_30m_max\"), col(\"enmo\").rolling_mean().abs().strict_cast(UInt16).alias(\"enmo_120m_mean\"), col(\"enmo\").rolling_max().abs().strict_cast(UInt16).alias(\"enmo_120m_max\"), [(col(\"enmo\").diff().abs().rolling_mean()) * (10)].abs().strict_cast(UInt32).alias(\"enmo_1v_120m_mean\"), [(col(\"enmo\").diff().abs().rolling_max()) * (10)].abs().strict_cast(UInt32).alias(\"enmo_1v_120m_max\"), [(col(\"anglez\").diff().abs().rolling_mean()) * (10)].abs().strict_cast(UInt32).alias(\"anglez_1v_120m_mean\"), [(col(\"anglez\").diff().abs().rolling_max()) * (10)].abs().strict_cast(UInt32).alias(\"anglez_1v_120m_max\"), col(\"enmo\").rolling_mean().abs().strict_cast(UInt16).alias(\"enmo_480m_mean\"), col(\"enmo\").rolling_max().abs().strict_cast(UInt16).alias(\"enmo_480m_max\"), [(col(\"enmo\").diff().abs().rolling_mean()) * (10)].abs().strict_cast(UInt32).alias(\"enmo_1v_480m_mean\"), [(col(\"enmo\").diff().abs().rolling_max()) * (10)].abs().strict_cast(UInt32).alias(\"enmo_1v_480m_max\"), [(col(\"anglez\").diff().abs().rolling_mean()) * (10)].abs().strict_cast(UInt32).alias(\"anglez_1v_480m_mean\"), [(col(\"anglez\").diff().abs().rolling_max()) * (10)].abs().strict_cast(UInt32).alias(\"anglez_1v_480m_max\")]<p></p>    FILTER col(\"series_id\").is_in([Series[series_id]]).not() FROM<p></p><p></p>     WITH_COLUMNS:<p></p>     [col(\"timestamp\").str.strptime([String(raise)]), [(col(\"timestamp\").str.strptime([String(raise)]).dt.year()) - (2000)].strict_cast(UInt8).alias(\"year\"), col(\"timestamp\").str.strptime([String(raise)]).dt.month().strict_cast(UInt8).alias(\"month\"), col(\"timestamp\").str.strptime([String(raise)]).dt.day().strict_cast(UInt8).alias(\"day\"), col(\"timestamp\").str.strptime([String(raise)]).dt.hour().strict_cast(UInt8).alias(\"hour\"), col(\"anglez\").strict_cast(Int16), [(col(\"enmo\")) * (1000)].strict_cast(UInt16)]<p></p><p></p>        Csv SCAN data/single_user_1.csv<p></p>        PROJECT */6 COLUMNS</div>"
      ],
      "text/plain": [
       "<LazyFrame [28 cols, {\"series_id\": String … \"anglez_1v_480m_max\": UInt32}] at 0x2546719B5F0>"
      ]
     },
     "execution_count": 52,
     "metadata": {},
     "output_type": "execute_result"
    }
   ],
   "source": [
    "train_series"
   ]
  },
  {
   "cell_type": "code",
   "execution_count": 47,
   "metadata": {},
   "outputs": [
    {
     "ename": "PanicException",
     "evalue": "not implemented",
     "output_type": "error",
     "traceback": [
      "\u001b[1;31m---------------------------------------------------------------------------\u001b[0m",
      "\u001b[1;31mPanicException\u001b[0m                            Traceback (most recent call last)",
      "Cell \u001b[1;32mIn[47], line 2\u001b[0m\n\u001b[0;32m      1\u001b[0m \u001b[38;5;66;03m# create the training data (no mismatched counts)\u001b[39;00m\n\u001b[1;32m----> 2\u001b[0m train_data \u001b[38;5;241m=\u001b[39m \u001b[43mtrain_series\u001b[49m\u001b[38;5;241;43m.\u001b[39;49m\u001b[43mfilter\u001b[49m\u001b[43m(\u001b[49m\u001b[43mpl\u001b[49m\u001b[38;5;241;43m.\u001b[39;49m\u001b[43mcol\u001b[49m\u001b[43m(\u001b[49m\u001b[38;5;124;43m'\u001b[39;49m\u001b[38;5;124;43mseries_id\u001b[39;49m\u001b[38;5;124;43m'\u001b[39;49m\u001b[43m)\u001b[49m\u001b[38;5;241;43m.\u001b[39;49m\u001b[43mis_in\u001b[49m\u001b[43m(\u001b[49m\u001b[43mseries_ids\u001b[49m\u001b[43m)\u001b[49m\u001b[43m)\u001b[49m\u001b[38;5;241;43m.\u001b[39;49m\u001b[43mcollect\u001b[49m\u001b[43m(\u001b[49m\u001b[43m)\u001b[49m\u001b[38;5;66;03m#.sample(int(1e6))\u001b[39;00m\n",
      "File \u001b[1;32mc:\\Users\\heefj\\anaconda3\\envs\\sleep_env\\Lib\\site-packages\\polars\\lazyframe\\frame.py:1730\u001b[0m, in \u001b[0;36mLazyFrame.collect\u001b[1;34m(self, type_coercion, predicate_pushdown, projection_pushdown, simplify_expression, slice_pushdown, comm_subplan_elim, comm_subexpr_elim, no_optimization, streaming, background, _eager)\u001b[0m\n\u001b[0;32m   1727\u001b[0m \u001b[38;5;28;01mif\u001b[39;00m background:\n\u001b[0;32m   1728\u001b[0m     \u001b[38;5;28;01mreturn\u001b[39;00m InProcessQuery(ldf\u001b[38;5;241m.\u001b[39mcollect_concurrently())\n\u001b[1;32m-> 1730\u001b[0m \u001b[38;5;28;01mreturn\u001b[39;00m wrap_df(\u001b[43mldf\u001b[49m\u001b[38;5;241;43m.\u001b[39;49m\u001b[43mcollect\u001b[49m\u001b[43m(\u001b[49m\u001b[43m)\u001b[49m)\n",
      "\u001b[1;31mPanicException\u001b[0m: not implemented"
     ]
    }
   ],
   "source": [
    "# create the training data (no mismatched counts)\n",
    "train_data = train_series.filter(pl.col('series_id').is_in(series_ids)).collect()#.sample(int(1e6))"
   ]
  },
  {
   "cell_type": "code",
   "execution_count": null,
   "metadata": {},
   "outputs": [],
   "source": [
    "# create features and target\n",
    "X_train, y_train = make_train_dataset(train_data, train_events)"
   ]
  },
  {
   "cell_type": "code",
   "execution_count": null,
   "metadata": {},
   "outputs": [],
   "source": [
    "# recover memory\n",
    "del train_data \n",
    "gc.collect()"
   ]
  },
  {
   "cell_type": "code",
   "execution_count": null,
   "metadata": {},
   "outputs": [],
   "source": []
  },
  {
   "cell_type": "markdown",
   "metadata": {},
   "source": [
    "# Model 1"
   ]
  },
  {
   "cell_type": "code",
   "execution_count": 6,
   "metadata": {},
   "outputs": [],
   "source": [
    "# create pipeline\n",
    "pipe = Pipeline([('scaler', MinMaxScaler()), \n",
    "                 ('logreg', LogisticRegression(n_jobs=-1, random_state=random_state))])"
   ]
  },
  {
   "cell_type": "code",
   "execution_count": 7,
   "metadata": {},
   "outputs": [
    {
     "data": {
      "text/plain": [
       "(array([0.78894067, 0.83249574, 0.7408778 , 0.78022965, 0.78140229]),\n",
       " 0.7847892300194931)"
      ]
     },
     "execution_count": 7,
     "metadata": {},
     "output_type": "execute_result"
    }
   ],
   "source": [
    "# cross validate\n",
    "scores = cross_val_score(pipe, X, y, cv=5, scoring='accuracy')\n",
    "\n",
    "# print results\n",
    "scores, scores.mean()"
   ]
  },
  {
   "cell_type": "code",
   "execution_count": 8,
   "metadata": {},
   "outputs": [
    {
     "name": "stdout",
     "output_type": "stream",
     "text": [
      "              precision    recall  f1-score   support\n",
      "\n",
      "           0       0.85      0.82      0.83     41789\n",
      "           1       0.70      0.74      0.72     23875\n",
      "\n",
      "    accuracy                           0.79     65664\n",
      "   macro avg       0.77      0.78      0.78     65664\n",
      "weighted avg       0.79      0.79      0.79     65664\n",
      "\n"
     ]
    }
   ],
   "source": [
    "# split data\n",
    "X_train, X_test, y_train, y_test = train_test_split(X, y, test_size=0.2, random_state=random_state)\n",
    "\n",
    "# fit pipeline\n",
    "pipe.fit(X_train, y_train)\n",
    "\n",
    "# get preds\n",
    "preds = pipe.predict(X_test)\n",
    "\n",
    "\n",
    "print(classification_report(y_test, preds))"
   ]
  },
  {
   "cell_type": "code",
   "execution_count": 9,
   "metadata": {},
   "outputs": [
    {
     "data": {
      "image/png": "[encoded data removed]",
      "text/plain": [
       "<Figure size 640x480 with 2 Axes>"
      ]
     },
     "metadata": {},
     "output_type": "display_data"
    }
   ],
   "source": [
    "ConfusionMatrixDisplay.from_estimator(pipe, X_test, y_test, cmap='Blues');"
   ]
  },
  {
   "cell_type": "code",
   "execution_count": 10,
   "metadata": {},
   "outputs": [
    {
     "data": {
      "text/html": [
       "<div>\n",
       "<style scoped>\n",
       "    .dataframe tbody tr th:only-of-type {\n",
       "        vertical-align: middle;\n",
       "    }\n",
       "\n",
       "    .dataframe tbody tr th {\n",
       "        vertical-align: top;\n",
       "    }\n",
       "\n",
       "    .dataframe thead th {\n",
       "        text-align: right;\n",
       "    }\n",
       "</style>\n",
       "<table border=\"1\" class=\"dataframe\">\n",
       "  <thead>\n",
       "    <tr style=\"text-align: right;\">\n",
       "      <th></th>\n",
       "      <th>series_id</th>\n",
       "      <th>step</th>\n",
       "      <th>anglez</th>\n",
       "      <th>enmo</th>\n",
       "      <th>date</th>\n",
       "      <th>asleep</th>\n",
       "      <th>anglez_diff</th>\n",
       "      <th>anglez_rolling_mean</th>\n",
       "      <th>anglez_rolling_std</th>\n",
       "      <th>enmo_diff</th>\n",
       "      <th>enmo_rolling_mean</th>\n",
       "      <th>enmo_rolling_std</th>\n",
       "      <th>pred</th>\n",
       "    </tr>\n",
       "  </thead>\n",
       "  <tbody>\n",
       "    <tr>\n",
       "      <th>0</th>\n",
       "      <td>038441c925bb</td>\n",
       "      <td>3240</td>\n",
       "      <td>67.175</td>\n",
       "      <td>0.015</td>\n",
       "      <td>2018-08-15</td>\n",
       "      <td>0</td>\n",
       "      <td>0.000</td>\n",
       "      <td>67.175</td>\n",
       "      <td>0.000</td>\n",
       "      <td>0.000</td>\n",
       "      <td>0.015</td>\n",
       "      <td>0.000</td>\n",
       "      <td>0</td>\n",
       "    </tr>\n",
       "    <tr>\n",
       "      <th>1</th>\n",
       "      <td>038441c925bb</td>\n",
       "      <td>3241</td>\n",
       "      <td>68.881</td>\n",
       "      <td>0.021</td>\n",
       "      <td>2018-08-15</td>\n",
       "      <td>0</td>\n",
       "      <td>1.706</td>\n",
       "      <td>68.028</td>\n",
       "      <td>1.706</td>\n",
       "      <td>0.006</td>\n",
       "      <td>0.018</td>\n",
       "      <td>1.706</td>\n",
       "      <td>0</td>\n",
       "    </tr>\n",
       "    <tr>\n",
       "      <th>2</th>\n",
       "      <td>038441c925bb</td>\n",
       "      <td>3242</td>\n",
       "      <td>73.114</td>\n",
       "      <td>0.034</td>\n",
       "      <td>2018-08-15</td>\n",
       "      <td>0</td>\n",
       "      <td>4.233</td>\n",
       "      <td>69.723</td>\n",
       "      <td>4.233</td>\n",
       "      <td>0.013</td>\n",
       "      <td>0.024</td>\n",
       "      <td>4.233</td>\n",
       "      <td>0</td>\n",
       "    </tr>\n",
       "    <tr>\n",
       "      <th>3</th>\n",
       "      <td>038441c925bb</td>\n",
       "      <td>3243</td>\n",
       "      <td>73.692</td>\n",
       "      <td>0.030</td>\n",
       "      <td>2018-08-15</td>\n",
       "      <td>0</td>\n",
       "      <td>0.578</td>\n",
       "      <td>70.715</td>\n",
       "      <td>0.578</td>\n",
       "      <td>-0.004</td>\n",
       "      <td>0.025</td>\n",
       "      <td>0.578</td>\n",
       "      <td>0</td>\n",
       "    </tr>\n",
       "    <tr>\n",
       "      <th>4</th>\n",
       "      <td>038441c925bb</td>\n",
       "      <td>3244</td>\n",
       "      <td>72.685</td>\n",
       "      <td>0.020</td>\n",
       "      <td>2018-08-15</td>\n",
       "      <td>0</td>\n",
       "      <td>-1.007</td>\n",
       "      <td>71.109</td>\n",
       "      <td>-1.007</td>\n",
       "      <td>-0.011</td>\n",
       "      <td>0.024</td>\n",
       "      <td>-1.007</td>\n",
       "      <td>0</td>\n",
       "    </tr>\n",
       "  </tbody>\n",
       "</table>\n",
       "</div>"
      ],
      "text/plain": [
       "      series_id  step  anglez  enmo        date  asleep  anglez_diff  \\\n",
       "0  038441c925bb  3240  67.175 0.015  2018-08-15       0        0.000   \n",
       "1  038441c925bb  3241  68.881 0.021  2018-08-15       0        1.706   \n",
       "2  038441c925bb  3242  73.114 0.034  2018-08-15       0        4.233   \n",
       "3  038441c925bb  3243  73.692 0.030  2018-08-15       0        0.578   \n",
       "4  038441c925bb  3244  72.685 0.020  2018-08-15       0       -1.007   \n",
       "\n",
       "   anglez_rolling_mean  anglez_rolling_std  enmo_diff  enmo_rolling_mean  \\\n",
       "0               67.175               0.000      0.000              0.015   \n",
       "1               68.028               1.706      0.006              0.018   \n",
       "2               69.723               4.233      0.013              0.024   \n",
       "3               70.715               0.578     -0.004              0.025   \n",
       "4               71.109              -1.007     -0.011              0.024   \n",
       "\n",
       "   enmo_rolling_std  pred  \n",
       "0             0.000     0  \n",
       "1             1.706     0  \n",
       "2             4.233     0  \n",
       "3             0.578     0  \n",
       "4            -1.007     0  "
      ]
     },
     "execution_count": 10,
     "metadata": {},
     "output_type": "execute_result"
    }
   ],
   "source": [
    "# add preds col\n",
    "df_copy = df.copy()\n",
    "df_copy['pred'] = pipe.predict(X)\n",
    "\n",
    "# check\n",
    "df_copy.head()"
   ]
  },
  {
   "cell_type": "code",
   "execution_count": 11,
   "metadata": {},
   "outputs": [],
   "source": [
    "# rows where prediction switches from 0 to 1 or 1 to 0\n",
    "df_copy[\"pred_switch\"] = (df_copy[\"pred\"].diff() != 0).astype(int)"
   ]
  },
  {
   "cell_type": "code",
   "execution_count": 12,
   "metadata": {},
   "outputs": [
    {
     "data": {
      "text/plain": [
       "pred_switch\n",
       "0    326251\n",
       "1      2069\n",
       "Name: count, dtype: int64"
      ]
     },
     "execution_count": 12,
     "metadata": {},
     "output_type": "execute_result"
    }
   ],
   "source": [
    "# look at the value counts\n",
    "df_copy[\"pred_switch\"].value_counts()"
   ]
  },
  {
   "cell_type": "markdown",
   "metadata": {},
   "source": [
    "- For this user, we have 19 valid nights of data, meaning a perfect model would have 38 rows where sleep state switched.\n",
    "- Currently, our model has over 2000. This is because at any given 5-second timestep, our model is predicting whether the user is asleep or awake at that given moment. This would include times in the night where the user briefly woke up.\n",
    "- We want to identify the sleep window, and return the step where it began and where it ended on each day."
   ]
  },
  {
   "cell_type": "code",
   "execution_count": 130,
   "metadata": {},
   "outputs": [],
   "source": [
    "# group by the date to take the first occurence of predicted onset\n",
    "predicted_onset = df_copy.query(\"pred_switch == 1 & pred == 1\").groupby(\"date\")['step'].min()\n",
    "\n",
    "# idk\n",
    "predicted_wakeup = df_copy.query(\"pred_switch == 1 & pred == 0\").groupby(\"date\")['step'].min()"
   ]
  },
  {
   "cell_type": "code",
   "execution_count": null,
   "metadata": {},
   "outputs": [],
   "source": []
  },
  {
   "cell_type": "code",
   "execution_count": null,
   "metadata": {},
   "outputs": [],
   "source": []
  },
  {
   "cell_type": "code",
   "execution_count": null,
   "metadata": {},
   "outputs": [],
   "source": []
  },
  {
   "cell_type": "code",
   "execution_count": null,
   "metadata": {},
   "outputs": [],
   "source": []
  }
 ],
 "metadata": {
  "kernelspec": {
   "display_name": "sleep_env",
   "language": "python",
   "name": "python3"
  },
  "language_info": {
   "codemirror_mode": {
    "name": "ipython",
    "version": 3
   },
   "file_extension": ".py",
   "mimetype": "text/x-python",
   "name": "python",
   "nbconvert_exporter": "python",
   "pygments_lexer": "ipython3",
   "version": "3.12.1"
  }
 },
 "nbformat": 4,
 "nbformat_minor": 2
}
